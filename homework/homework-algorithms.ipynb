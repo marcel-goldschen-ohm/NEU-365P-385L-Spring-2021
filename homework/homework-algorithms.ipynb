{
 "cells": [
  {
   "cell_type": "markdown",
   "metadata": {},
   "source": [
    "# Homework (12 pts) - Algorithms\n",
    "\n",
    "Questions below refer to the **Selection Sort** algorithm. See image depiction below.\n",
    "\n",
    "![Selection Sort](images/selectionsort.jpg)"
   ]
  },
  {
   "cell_type": "markdown",
   "metadata": {},
   "source": [
    "1. (3 pts) Write a breif high level natural language description of how you would implement the selection sort algorithm."
   ]
  },
  {
   "cell_type": "raw",
   "metadata": {},
   "source": [
    "To implement the selection sort algorithm first an array should be passed into the function and then array should be sorted through to find the lowest possible number and make the lowest number swap places with whatever value is in the first array space. Then incrementing to the next space the array should once again be scanned through to find the next lowest value and then swap it with the second position. This process should be repeated for the length of the algorithm and then the sorted algorithm should finish with the full array sorted."
   ]
  },
  {
   "cell_type": "markdown",
   "metadata": {},
   "source": [
    "2. (3 pts) Write pseudocode for the selection sort algorithm."
   ]
  },
  {
   "cell_type": "code",
   "execution_count": null,
   "metadata": {},
   "outputs": [],
   "source": [
    "# Import array\n",
    "# Repeat process through the length of the array\n",
    "# Find minimum element from remaining length of array\n",
    "# Swap minimum with current location in array\n",
    "# The full array should be sorted"
   ]
  },
  {
   "cell_type": "markdown",
   "metadata": {},
   "source": [
    "3. (3 pts) Write a function implementing the selection sort algorithm on an input list."
   ]
  },
  {
   "cell_type": "code",
   "execution_count": 6,
   "metadata": {},
   "outputs": [],
   "source": [
    "import sys\n",
    "\n",
    "def selectionSort(x):\n",
    "    for i in range(len(x)):\n",
    "        min_index = i\n",
    "        for j in range(i+1, len(x)): \n",
    "            if x[j] < x[min_index]:\n",
    "                min_index = j\n",
    "        x[i], x[min_index] = x[min_index], x[i]"
   ]
  },
  {
   "cell_type": "markdown",
   "metadata": {},
   "source": [
    "4. (3 pts) Use your function to sort the list of items below. Print your sorted items to verify."
   ]
  },
  {
   "cell_type": "code",
   "execution_count": 7,
   "metadata": {},
   "outputs": [
    {
     "name": "stdout",
     "output_type": "stream",
     "text": [
      "[1 5 6 3 6 8 5 3 2 2 8 3 2 0 6 1 0 7 4 4]\n",
      "[0 0 1 1 2 2 2 3 3 3 4 4 5 5 6 6 6 7 8 8]\n"
     ]
    }
   ],
   "source": [
    "import numpy as np\n",
    "\n",
    "items = np.random.randint(0, 10, 20)\n",
    "print(items)\n",
    "selectionSort(items)\n",
    "print(items)"
   ]
  },
  {
   "cell_type": "code",
   "execution_count": null,
   "metadata": {},
   "outputs": [],
   "source": []
  }
 ],
 "metadata": {
  "kernelspec": {
   "display_name": "Python 3",
   "language": "python",
   "name": "python3"
  },
  "language_info": {
   "codemirror_mode": {
    "name": "ipython",
    "version": 3
   },
   "file_extension": ".py",
   "mimetype": "text/x-python",
   "name": "python",
   "nbconvert_exporter": "python",
   "pygments_lexer": "ipython3",
   "version": "3.8.5"
  }
 },
 "nbformat": 4,
 "nbformat_minor": 4
}
