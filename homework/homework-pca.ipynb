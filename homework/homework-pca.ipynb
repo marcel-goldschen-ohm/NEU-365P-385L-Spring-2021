{
 "cells": [
  {
   "cell_type": "markdown",
   "id": "emerging-negative",
   "metadata": {},
   "source": [
    "# Homework (18 pts) - PCA"
   ]
  },
  {
   "cell_type": "code",
   "execution_count": null,
   "id": "administrative-pharmacology",
   "metadata": {},
   "outputs": [],
   "source": [
    "from scipy.io import loadmat\n",
    "\n",
    "# Same data file as used in lecture.\n",
    "# Avaliable in lecture folder or in homework folder.\n",
    "data = loadmat('eeg.mat')\n",
    "\n",
    "# grab relevant data, EEG units are microvolts (uV), time is in milliseconds (ms)\n",
    "# each channel is an electrode, each trial is a separate EEG recording from that electrode\n",
    "eeg = data[\"EEG\"][0,0][\"data\"]  # [channel, time point, trial]\n",
    "time = data[\"EEG\"][0,0][\"times\"][0]\n",
    "\n",
    "eeg.shape, time.shape"
   ]
  },
  {
   "cell_type": "markdown",
   "id": "novel-disaster",
   "metadata": {},
   "source": [
    "---\n",
    "1. (3 pts) From the EEG data above, generate the average EEG across trials for each channel for times between 0 and 500 ms (note that the first time point is NOT time zero). Plot the result for channel 20."
   ]
  },
  {
   "cell_type": "code",
   "execution_count": null,
   "id": "determined-jaguar",
   "metadata": {},
   "outputs": [],
   "source": []
  },
  {
   "cell_type": "markdown",
   "id": "representative-cyprus",
   "metadata": {},
   "source": [
    "---\n",
    "2. (3 pts) Apply PCA to the averaged EEGs from #1 above. Use as many principal components (PCs) as needed to explain 90% of the variance in the EEG waveforms. Report the number of PCs used and plot each PC as if it were an EEG waveform itself."
   ]
  },
  {
   "cell_type": "code",
   "execution_count": null,
   "id": "cross-worse",
   "metadata": {},
   "outputs": [],
   "source": []
  },
  {
   "cell_type": "markdown",
   "id": "answering-hardware",
   "metadata": {},
   "source": [
    "---\n",
    "3. (3 pts) Replot the average EEG for channel 20 as in #1 above, and additionally overlay the plot of its projection onto the principal components from #2 above. Use a legend to label the plots as 'original' and 'projected'. Does it look like we lost a lot of information by describing each waveform using only a small number of PCs as opposed to explicit values at each time point?"
   ]
  },
  {
   "cell_type": "code",
   "execution_count": null,
   "id": "illegal-singapore",
   "metadata": {},
   "outputs": [],
   "source": []
  },
  {
   "cell_type": "markdown",
   "id": "better-hanging",
   "metadata": {},
   "source": [
    "Very little information appears to have been lost using only three principal components to describe the entire EEG waveform."
   ]
  },
  {
   "cell_type": "markdown",
   "id": "objective-uncertainty",
   "metadata": {},
   "source": [
    "---\n",
    "4. (3 pts) How much of each of the PCs were mixed together to generate the projection for channel 20 as shown in #3 above? Plot the relative amounts of each PC as a bar graph. Use only a single tick mark on the x-axis for each PC."
   ]
  },
  {
   "cell_type": "code",
   "execution_count": null,
   "id": "august-elephant",
   "metadata": {},
   "outputs": [],
   "source": []
  },
  {
   "cell_type": "markdown",
   "id": "american-brooks",
   "metadata": {},
   "source": [
    "---\n",
    "5. (3 pts) Use a Gaussian mixture model (GMM) to group the EEG waveforms into three clusters in the PCA reduced dimensions. Plot the EEG waveforms as points in the PCA reduced dimensions (axes are the PCs) colored according to their cluster."
   ]
  },
  {
   "cell_type": "code",
   "execution_count": null,
   "id": "mounted-bride",
   "metadata": {},
   "outputs": [],
   "source": []
  },
  {
   "cell_type": "markdown",
   "id": "sharp-watershed",
   "metadata": {},
   "source": [
    "---\n",
    "6. (3 pts) For each of the three clusters from #5 above, plot all of the averaged EEGs belonging to that cluster overlaid on each other. Thus, you'll have a separate plot for each cluster. Additionally, overlay on each plot the average EEG for that cluster plotted as a black line."
   ]
  },
  {
   "cell_type": "code",
   "execution_count": null,
   "id": "about-welcome",
   "metadata": {},
   "outputs": [],
   "source": []
  }
 ],
 "metadata": {
  "kernelspec": {
   "display_name": "Python 3",
   "language": "python",
   "name": "python3"
  },
  "language_info": {
   "codemirror_mode": {
    "name": "ipython",
    "version": 3
   },
   "file_extension": ".py",
   "mimetype": "text/x-python",
   "name": "python",
   "nbconvert_exporter": "python",
   "pygments_lexer": "ipython3",
   "version": "3.8.6"
  }
 },
 "nbformat": 4,
 "nbformat_minor": 5
}
