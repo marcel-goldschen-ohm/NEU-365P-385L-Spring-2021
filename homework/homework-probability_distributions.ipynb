{
 "cells": [
  {
   "cell_type": "markdown",
   "metadata": {},
   "source": [
    "# Homework (12 pts) - Probability Distributions of Random Variables"
   ]
  },
  {
   "cell_type": "markdown",
   "metadata": {},
   "source": [
    "1. (3 pts) Assume that the rate of deleterious mutations on average is 1.2 per diploid genome. However, due to certain environmental factors, the mutation rate in a particular city is doubled. Plot the probabilities of having zero up to 10 mutations. If having eight or more mutations has a 50% chance of being lethal, how many deaths are expected out of 1000 residents of this city?"
   ]
  },
  {
   "cell_type": "markdown",
   "metadata": {},
   "source": [
    "2. (3 pts) You are recording action potentials from a single neuron, and observe a spike on average once every 0.5 seconds. Plot the expected distribution of interspike intervals from zero up to the time for which 95% of all intervals are accounted for. If this neuron needs to fire two consecutive spikes within 0.1 seconds in order for a downstream neuron to spike, what is the average spike rate of the downstream neuron?"
   ]
  },
  {
   "cell_type": "markdown",
   "metadata": {},
   "source": [
    "3. (3 pts) A tetrameric protein composed of four identical subunits can bind an activating ligand, one ligand per subunit. At a given ligand concentration there is 30% chance that a binding site will be occupied by ligand. Plot the probability that 0, 1, 2, 3, or 4 ligands are bound."
   ]
  },
  {
   "cell_type": "markdown",
   "metadata": {},
   "source": [
    "4. (3 pts) Mice are evaluated for depression following an experimental procedure using a set of tests that are summarized by a single score that is presumed to be correlated with their degree of depression. Scores for a group of mice had a mean value of 64 with a standard deviation of 12. Plot the distribution of scores. If a score above 80 is considered as being depressed, what is the probability that a mouse will be depressed following this experimental procedure?"
   ]
  }
 ],
 "metadata": {
  "kernelspec": {
   "display_name": "Python 3",
   "language": "python",
   "name": "python3"
  },
  "language_info": {
   "codemirror_mode": {
    "name": "ipython",
    "version": 3
   },
   "file_extension": ".py",
   "mimetype": "text/x-python",
   "name": "python",
   "nbconvert_exporter": "python",
   "pygments_lexer": "ipython3",
   "version": "3.8.6"
  }
 },
 "nbformat": 4,
 "nbformat_minor": 4
}
