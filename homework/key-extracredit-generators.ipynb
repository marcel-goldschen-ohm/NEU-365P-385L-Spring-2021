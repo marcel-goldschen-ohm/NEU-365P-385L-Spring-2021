{
 "cells": [
  {
   "cell_type": "markdown",
   "metadata": {},
   "source": [
    "# Extra Credit (6 pts) - Generators\n",
    "\n",
    "Generators are used to create series of items. However, unlike lists where all the items in the list are defined up front, generators create and return the items as needed. Once grabbed, a value is used up so that the next time you grab a value you'll get the next item in the series. Thus, you can only loop over a generated list once. After all values have been generated, the generator can't create any more values.\n",
    "\n",
    "Why would you want to use a generator rather than a list? Consider that you need to process a collection of values one at a time until a certain condition is met. In this case, if the condition is met early on, having preallocaated all the values in the entire collection (as would be the case if you put the collection in a list) is a waste of time and memory which you can save by using a generator.\n",
    "\n",
    "[One of many online explanations of generators.](https://realpython.com/introduction-to-python-generators/)"
   ]
  },
  {
   "cell_type": "markdown",
   "metadata": {},
   "source": [
    "---\n",
    "### Generator Expressions"
   ]
  },
  {
   "cell_type": "code",
   "execution_count": null,
   "metadata": {},
   "outputs": [],
   "source": [
    "vals = (i for i in range(5))  # !!! -> use () instead of [], latter is a list comprehension\n",
    "vals"
   ]
  },
  {
   "cell_type": "code",
   "execution_count": null,
   "metadata": {},
   "outputs": [],
   "source": [
    "vals = (i for i in range(5))\n",
    "\n",
    "print(next(vals))  # Yields the next item\n",
    "print(next(vals))  # Yields the next item\n",
    "print(next(vals))  # Yields the next item\n",
    "print(next(vals))  # Yields the next item\n",
    "print(next(vals))  # Yields the next item\n",
    "print(next(vals))  # ERROR, nothing left to generate"
   ]
  },
  {
   "cell_type": "code",
   "execution_count": null,
   "metadata": {},
   "outputs": [],
   "source": [
    "vals = (i for i in range(5))\n",
    "\n",
    "for val in vals:\n",
    "    print(val)"
   ]
  },
  {
   "cell_type": "markdown",
   "metadata": {},
   "source": [
    "---\n",
    "### 1. (3 pts) Why does the cell below not print out the values twice?"
   ]
  },
  {
   "cell_type": "code",
   "execution_count": 1,
   "metadata": {},
   "outputs": [
    {
     "name": "stdout",
     "output_type": "stream",
     "text": [
      "0\n",
      "1\n",
      "2\n",
      "3\n",
      "4\n"
     ]
    }
   ],
   "source": [
    "vals = (i for i in range(5))\n",
    "\n",
    "for val in vals:\n",
    "    print(val)\n",
    "\n",
    "for val in vals:\n",
    "    print(val)"
   ]
  },
  {
   "cell_type": "markdown",
   "metadata": {},
   "source": [
    "The first for loop used up all the values in the generator, so the next for loop had nothing to loop over."
   ]
  },
  {
   "cell_type": "markdown",
   "metadata": {},
   "source": [
    "---\n",
    "### Generator Functions"
   ]
  },
  {
   "cell_type": "code",
   "execution_count": null,
   "metadata": {},
   "outputs": [],
   "source": [
    "def infinite_sequence():\n",
    "    num = 0\n",
    "    while True:\n",
    "        yield num  # <-- yield returns the next generated value\n",
    "        num += 1"
   ]
  },
  {
   "cell_type": "code",
   "execution_count": null,
   "metadata": {},
   "outputs": [],
   "source": [
    "from time import sleep\n",
    "\n",
    "# Feel free to interrupt your kernel to stop executing this cell...\n",
    "# MenuBar --> Kernel --> Interrupt Kernel\n",
    "for i in infinite_sequence():\n",
    "    print(i)\n",
    "    sleep(0.1)"
   ]
  },
  {
   "cell_type": "code",
   "execution_count": null,
   "metadata": {},
   "outputs": [],
   "source": [
    "infseqgen = infinite_sequence()\n",
    "infseqgen"
   ]
  },
  {
   "cell_type": "code",
   "execution_count": null,
   "metadata": {},
   "outputs": [],
   "source": [
    "# !!! RUN THIS CELL REPEATEDLY a few times to see what happees !!!\n",
    "next(infseqgen)"
   ]
  },
  {
   "cell_type": "markdown",
   "metadata": {},
   "source": [
    "---\n",
    "### 2. (3 pts) Write a genertor function that sums the list of values below until it encounters a value that is None. Use your function to print the cummulative sum up to the first None value."
   ]
  },
  {
   "cell_type": "code",
   "execution_count": 2,
   "metadata": {},
   "outputs": [
    {
     "name": "stdout",
     "output_type": "stream",
     "text": [
      "[0, 1, 2, 3, 4, 5, 6, 7, 8, 9, None, 11, 12, 13, 14, 15, 16, 17, 18, 19]\n"
     ]
    }
   ],
   "source": [
    "numbers = list(range(100000))\n",
    "numbers[10] = None\n",
    "print(numbers[:20])"
   ]
  },
  {
   "cell_type": "code",
   "execution_count": 3,
   "metadata": {},
   "outputs": [],
   "source": [
    "def sumUntilNone(values):\n",
    "    total = 0\n",
    "    for value in values:\n",
    "        if value is None:\n",
    "            return\n",
    "        total += value\n",
    "        yield total"
   ]
  },
  {
   "cell_type": "code",
   "execution_count": 4,
   "metadata": {},
   "outputs": [],
   "source": [
    "gen = sumUntilNone(numbers)"
   ]
  },
  {
   "cell_type": "code",
   "execution_count": 5,
   "metadata": {},
   "outputs": [
    {
     "name": "stdout",
     "output_type": "stream",
     "text": [
      "0\n",
      "1\n",
      "3\n",
      "6\n",
      "10\n",
      "15\n",
      "21\n",
      "28\n",
      "36\n",
      "45\n"
     ]
    }
   ],
   "source": [
    "for cumsum in gen:\n",
    "    print(cumsum)"
   ]
  }
 ],
 "metadata": {
  "kernelspec": {
   "display_name": "Python 3",
   "language": "python",
   "name": "python3"
  },
  "language_info": {
   "codemirror_mode": {
    "name": "ipython",
    "version": 3
   },
   "file_extension": ".py",
   "mimetype": "text/x-python",
   "name": "python",
   "nbconvert_exporter": "python",
   "pygments_lexer": "ipython3",
   "version": "3.8.6"
  }
 },
 "nbformat": 4,
 "nbformat_minor": 4
}
