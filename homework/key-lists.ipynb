{
 "cells": [
  {
   "cell_type": "markdown",
   "metadata": {},
   "source": [
    "# Homework - Lists (15 pts)"
   ]
  },
  {
   "cell_type": "code",
   "execution_count": 1,
   "metadata": {},
   "outputs": [],
   "source": [
    "animals = [\"Orca\", \"Wolf\", \"Gecko\"]"
   ]
  },
  {
   "cell_type": "markdown",
   "metadata": {},
   "source": [
    "1. (3 pts) For the list of animal sabove, change \"Wolf\" to \"Dog\" and append \"Puma\" and \"Jaguar\" to the end of the list. **!!! Modify the original animals variable, DON'T JUST TYPE A NEW LIST.** Then print the modified **animals** list."
   ]
  },
  {
   "cell_type": "code",
   "execution_count": 2,
   "metadata": {},
   "outputs": [
    {
     "name": "stdout",
     "output_type": "stream",
     "text": [
      "['Orca', 'Dog', 'Gecko', 'Puma', 'Jaguar']\n"
     ]
    }
   ],
   "source": [
    "animals[1] = \"Dog\"\n",
    "animals.extend([\"Puma\", \"Jaguar\"])\n",
    "print(animals)"
   ]
  },
  {
   "cell_type": "markdown",
   "metadata": {},
   "source": [
    "2. (3 pts) Create a new variable **cats** and USE LIST INDEXING to set it to the cats in the **animals** list. Print the **cats** list."
   ]
  },
  {
   "cell_type": "code",
   "execution_count": 3,
   "metadata": {},
   "outputs": [
    {
     "name": "stdout",
     "output_type": "stream",
     "text": [
      "['Puma', 'Jaguar']\n"
     ]
    }
   ],
   "source": [
    "cats = animals[-2:]\n",
    "print(cats)"
   ]
  },
  {
   "cell_type": "markdown",
   "metadata": {},
   "source": [
    "3. (3 pts) Create two new variables **animalsRef** and **animalsCopy** and set them to a reference and a copy of the **animals** list, respectively. Then change \"Dog\" to \"Wolf\" in **animalsRef** and \"Orca\" to \"Dolphin\" in **animalsCopy**. Thren print the **animals**, **animalsRef** and **animalsCopy** lists."
   ]
  },
  {
   "cell_type": "code",
   "execution_count": 4,
   "metadata": {},
   "outputs": [
    {
     "name": "stdout",
     "output_type": "stream",
     "text": [
      "['Orca', 'Wolf', 'Gecko', 'Puma', 'Jaguar']\n",
      "['Orca', 'Wolf', 'Gecko', 'Puma', 'Jaguar']\n",
      "['Dolphin', 'Dog', 'Gecko', 'Puma', 'Jaguar']\n"
     ]
    }
   ],
   "source": [
    "import copy\n",
    "animalsRef = animals\n",
    "animalsCopy = copy.copy(animals)\n",
    "animalsRef[1] = \"Wolf\"\n",
    "animalsCopy[0] = \"Dolphin\"\n",
    "print(animals)\n",
    "print(animalsRef)\n",
    "print(animalsCopy)"
   ]
  },
  {
   "cell_type": "markdown",
   "metadata": {},
   "source": [
    "4. (3 pts) Write a for loop over the **animals** list and print out each animal that is a type of cat."
   ]
  },
  {
   "cell_type": "code",
   "execution_count": 5,
   "metadata": {},
   "outputs": [
    {
     "name": "stdout",
     "output_type": "stream",
     "text": [
      "Puma\n",
      "Jaguar\n"
     ]
    }
   ],
   "source": [
    "for animal in animals:\n",
    "    if animal in [\"Puma\", \"Jaguar\"]:\n",
    "        print(animal)"
   ]
  },
  {
   "cell_type": "markdown",
   "metadata": {},
   "source": [
    "5. (3 pts) Write an enumerated for loop over the **animals** list and change \"Gecko\" to \"Salamander\" within the loop. Then print the modified **animals** list."
   ]
  },
  {
   "cell_type": "code",
   "execution_count": 6,
   "metadata": {},
   "outputs": [
    {
     "name": "stdout",
     "output_type": "stream",
     "text": [
      "['Orca', 'Wolf', 'Salamander', 'Puma', 'Jaguar']\n"
     ]
    }
   ],
   "source": [
    "for (i, animal) in enumerate(animals):\n",
    "    if animal == \"Gecko\":\n",
    "        animals[i] = \"Salamander\"\n",
    "\n",
    "print(animals)"
   ]
  }
 ],
 "metadata": {
  "kernelspec": {
   "display_name": "Python 3",
   "language": "python",
   "name": "python3"
  },
  "language_info": {
   "codemirror_mode": {
    "name": "ipython",
    "version": 3
   },
   "file_extension": ".py",
   "mimetype": "text/x-python",
   "name": "python",
   "nbconvert_exporter": "python",
   "pygments_lexer": "ipython3",
   "version": "3.8.5"
  }
 },
 "nbformat": 4,
 "nbformat_minor": 4
}
