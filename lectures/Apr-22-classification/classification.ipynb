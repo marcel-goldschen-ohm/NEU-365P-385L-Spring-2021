{
 "cells": [
  {
   "cell_type": "markdown",
   "metadata": {
    "slideshow": {
     "slide_type": "slide"
    }
   },
   "source": [
    "# Classification"
   ]
  },
  {
   "cell_type": "code",
   "execution_count": 1,
   "metadata": {},
   "outputs": [],
   "source": [
    "import numpy as np\n",
    "import matplotlib.pyplot as plt\n",
    "plt.rcParams['axes.labelsize'] = 14\n",
    "plt.rcParams['axes.titlesize'] = 14\n",
    "plt.rcParams['legend.fontsize'] = 12\n",
    "plt.rcParams['figure.figsize'] = (8, 5)\n",
    "%config InlineBackend.figure_format = 'retina'"
   ]
  },
  {
   "cell_type": "markdown",
   "metadata": {
    "slideshow": {
     "slide_type": "slide"
    }
   },
   "source": [
    "Expression levels of 77 proteins measured in the cerebral cortex of 8 classes of control and Down syndrome (Ts65Dn) mice exposed to context fear conditioning.\n",
    "\n",
    "https://www.kaggle.com/ruslankl/mice-protein-expression"
   ]
  },
  {
   "cell_type": "code",
   "execution_count": 2,
   "metadata": {},
   "outputs": [
    {
     "data": {
      "text/html": [
       "<div>\n",
       "<style scoped>\n",
       "    .dataframe tbody tr th:only-of-type {\n",
       "        vertical-align: middle;\n",
       "    }\n",
       "\n",
       "    .dataframe tbody tr th {\n",
       "        vertical-align: top;\n",
       "    }\n",
       "\n",
       "    .dataframe thead th {\n",
       "        text-align: right;\n",
       "    }\n",
       "</style>\n",
       "<table border=\"1\" class=\"dataframe\">\n",
       "  <thead>\n",
       "    <tr style=\"text-align: right;\">\n",
       "      <th></th>\n",
       "      <th>MouseID</th>\n",
       "      <th>DYRK1A_N</th>\n",
       "      <th>ITSN1_N</th>\n",
       "      <th>BDNF_N</th>\n",
       "      <th>NR1_N</th>\n",
       "      <th>NR2A_N</th>\n",
       "      <th>pAKT_N</th>\n",
       "      <th>pBRAF_N</th>\n",
       "      <th>pCAMKII_N</th>\n",
       "      <th>pCREB_N</th>\n",
       "      <th>...</th>\n",
       "      <th>pCFOS_N</th>\n",
       "      <th>SYP_N</th>\n",
       "      <th>H3AcK18_N</th>\n",
       "      <th>EGR1_N</th>\n",
       "      <th>H3MeK4_N</th>\n",
       "      <th>CaNA_N</th>\n",
       "      <th>Genotype</th>\n",
       "      <th>Treatment</th>\n",
       "      <th>Behavior</th>\n",
       "      <th>class</th>\n",
       "    </tr>\n",
       "  </thead>\n",
       "  <tbody>\n",
       "    <tr>\n",
       "      <th>0</th>\n",
       "      <td>309_1</td>\n",
       "      <td>0.503644</td>\n",
       "      <td>0.747193</td>\n",
       "      <td>0.430175</td>\n",
       "      <td>2.816329</td>\n",
       "      <td>5.990152</td>\n",
       "      <td>0.218830</td>\n",
       "      <td>0.177565</td>\n",
       "      <td>2.373744</td>\n",
       "      <td>0.232224</td>\n",
       "      <td>...</td>\n",
       "      <td>0.108336</td>\n",
       "      <td>0.427099</td>\n",
       "      <td>0.114783</td>\n",
       "      <td>0.131790</td>\n",
       "      <td>0.128186</td>\n",
       "      <td>1.675652</td>\n",
       "      <td>Control</td>\n",
       "      <td>Memantine</td>\n",
       "      <td>C/S</td>\n",
       "      <td>c-CS-m</td>\n",
       "    </tr>\n",
       "    <tr>\n",
       "      <th>1</th>\n",
       "      <td>309_2</td>\n",
       "      <td>0.514617</td>\n",
       "      <td>0.689064</td>\n",
       "      <td>0.411770</td>\n",
       "      <td>2.789514</td>\n",
       "      <td>5.685038</td>\n",
       "      <td>0.211636</td>\n",
       "      <td>0.172817</td>\n",
       "      <td>2.292150</td>\n",
       "      <td>0.226972</td>\n",
       "      <td>...</td>\n",
       "      <td>0.104315</td>\n",
       "      <td>0.441581</td>\n",
       "      <td>0.111974</td>\n",
       "      <td>0.135103</td>\n",
       "      <td>0.131119</td>\n",
       "      <td>1.743610</td>\n",
       "      <td>Control</td>\n",
       "      <td>Memantine</td>\n",
       "      <td>C/S</td>\n",
       "      <td>c-CS-m</td>\n",
       "    </tr>\n",
       "    <tr>\n",
       "      <th>2</th>\n",
       "      <td>309_3</td>\n",
       "      <td>0.509183</td>\n",
       "      <td>0.730247</td>\n",
       "      <td>0.418309</td>\n",
       "      <td>2.687201</td>\n",
       "      <td>5.622059</td>\n",
       "      <td>0.209011</td>\n",
       "      <td>0.175722</td>\n",
       "      <td>2.283337</td>\n",
       "      <td>0.230247</td>\n",
       "      <td>...</td>\n",
       "      <td>0.106219</td>\n",
       "      <td>0.435777</td>\n",
       "      <td>0.111883</td>\n",
       "      <td>0.133362</td>\n",
       "      <td>0.127431</td>\n",
       "      <td>1.926427</td>\n",
       "      <td>Control</td>\n",
       "      <td>Memantine</td>\n",
       "      <td>C/S</td>\n",
       "      <td>c-CS-m</td>\n",
       "    </tr>\n",
       "    <tr>\n",
       "      <th>3</th>\n",
       "      <td>309_4</td>\n",
       "      <td>0.442107</td>\n",
       "      <td>0.617076</td>\n",
       "      <td>0.358626</td>\n",
       "      <td>2.466947</td>\n",
       "      <td>4.979503</td>\n",
       "      <td>0.222886</td>\n",
       "      <td>0.176463</td>\n",
       "      <td>2.152301</td>\n",
       "      <td>0.207004</td>\n",
       "      <td>...</td>\n",
       "      <td>0.111262</td>\n",
       "      <td>0.391691</td>\n",
       "      <td>0.130405</td>\n",
       "      <td>0.147444</td>\n",
       "      <td>0.146901</td>\n",
       "      <td>1.700563</td>\n",
       "      <td>Control</td>\n",
       "      <td>Memantine</td>\n",
       "      <td>C/S</td>\n",
       "      <td>c-CS-m</td>\n",
       "    </tr>\n",
       "    <tr>\n",
       "      <th>4</th>\n",
       "      <td>309_5</td>\n",
       "      <td>0.434940</td>\n",
       "      <td>0.617430</td>\n",
       "      <td>0.358802</td>\n",
       "      <td>2.365785</td>\n",
       "      <td>4.718679</td>\n",
       "      <td>0.213106</td>\n",
       "      <td>0.173627</td>\n",
       "      <td>2.134014</td>\n",
       "      <td>0.192158</td>\n",
       "      <td>...</td>\n",
       "      <td>0.110694</td>\n",
       "      <td>0.434154</td>\n",
       "      <td>0.118481</td>\n",
       "      <td>0.140314</td>\n",
       "      <td>0.148380</td>\n",
       "      <td>1.839730</td>\n",
       "      <td>Control</td>\n",
       "      <td>Memantine</td>\n",
       "      <td>C/S</td>\n",
       "      <td>c-CS-m</td>\n",
       "    </tr>\n",
       "    <tr>\n",
       "      <th>...</th>\n",
       "      <td>...</td>\n",
       "      <td>...</td>\n",
       "      <td>...</td>\n",
       "      <td>...</td>\n",
       "      <td>...</td>\n",
       "      <td>...</td>\n",
       "      <td>...</td>\n",
       "      <td>...</td>\n",
       "      <td>...</td>\n",
       "      <td>...</td>\n",
       "      <td>...</td>\n",
       "      <td>...</td>\n",
       "      <td>...</td>\n",
       "      <td>...</td>\n",
       "      <td>...</td>\n",
       "      <td>...</td>\n",
       "      <td>...</td>\n",
       "      <td>...</td>\n",
       "      <td>...</td>\n",
       "      <td>...</td>\n",
       "      <td>...</td>\n",
       "    </tr>\n",
       "    <tr>\n",
       "      <th>1075</th>\n",
       "      <td>J3295_11</td>\n",
       "      <td>0.254860</td>\n",
       "      <td>0.463591</td>\n",
       "      <td>0.254860</td>\n",
       "      <td>2.092082</td>\n",
       "      <td>2.600035</td>\n",
       "      <td>0.211736</td>\n",
       "      <td>0.171262</td>\n",
       "      <td>2.483740</td>\n",
       "      <td>0.207317</td>\n",
       "      <td>...</td>\n",
       "      <td>0.183324</td>\n",
       "      <td>0.374088</td>\n",
       "      <td>0.318782</td>\n",
       "      <td>0.204660</td>\n",
       "      <td>0.328327</td>\n",
       "      <td>1.364823</td>\n",
       "      <td>Ts65Dn</td>\n",
       "      <td>Saline</td>\n",
       "      <td>S/C</td>\n",
       "      <td>t-SC-s</td>\n",
       "    </tr>\n",
       "    <tr>\n",
       "      <th>1076</th>\n",
       "      <td>J3295_12</td>\n",
       "      <td>0.272198</td>\n",
       "      <td>0.474163</td>\n",
       "      <td>0.251638</td>\n",
       "      <td>2.161390</td>\n",
       "      <td>2.801492</td>\n",
       "      <td>0.251274</td>\n",
       "      <td>0.182496</td>\n",
       "      <td>2.512737</td>\n",
       "      <td>0.216339</td>\n",
       "      <td>...</td>\n",
       "      <td>0.175674</td>\n",
       "      <td>0.375259</td>\n",
       "      <td>0.325639</td>\n",
       "      <td>0.200415</td>\n",
       "      <td>0.293435</td>\n",
       "      <td>1.364478</td>\n",
       "      <td>Ts65Dn</td>\n",
       "      <td>Saline</td>\n",
       "      <td>S/C</td>\n",
       "      <td>t-SC-s</td>\n",
       "    </tr>\n",
       "    <tr>\n",
       "      <th>1077</th>\n",
       "      <td>J3295_13</td>\n",
       "      <td>0.228700</td>\n",
       "      <td>0.395179</td>\n",
       "      <td>0.234118</td>\n",
       "      <td>1.733184</td>\n",
       "      <td>2.220852</td>\n",
       "      <td>0.220665</td>\n",
       "      <td>0.161435</td>\n",
       "      <td>1.989723</td>\n",
       "      <td>0.185164</td>\n",
       "      <td>...</td>\n",
       "      <td>0.158296</td>\n",
       "      <td>0.422121</td>\n",
       "      <td>0.321306</td>\n",
       "      <td>0.229193</td>\n",
       "      <td>0.355213</td>\n",
       "      <td>1.430825</td>\n",
       "      <td>Ts65Dn</td>\n",
       "      <td>Saline</td>\n",
       "      <td>S/C</td>\n",
       "      <td>t-SC-s</td>\n",
       "    </tr>\n",
       "    <tr>\n",
       "      <th>1078</th>\n",
       "      <td>J3295_14</td>\n",
       "      <td>0.221242</td>\n",
       "      <td>0.412894</td>\n",
       "      <td>0.243974</td>\n",
       "      <td>1.876347</td>\n",
       "      <td>2.384088</td>\n",
       "      <td>0.208897</td>\n",
       "      <td>0.173623</td>\n",
       "      <td>2.086028</td>\n",
       "      <td>0.192044</td>\n",
       "      <td>...</td>\n",
       "      <td>0.196296</td>\n",
       "      <td>0.397676</td>\n",
       "      <td>0.335936</td>\n",
       "      <td>0.251317</td>\n",
       "      <td>0.365353</td>\n",
       "      <td>1.404031</td>\n",
       "      <td>Ts65Dn</td>\n",
       "      <td>Saline</td>\n",
       "      <td>S/C</td>\n",
       "      <td>t-SC-s</td>\n",
       "    </tr>\n",
       "    <tr>\n",
       "      <th>1079</th>\n",
       "      <td>J3295_15</td>\n",
       "      <td>0.302626</td>\n",
       "      <td>0.461059</td>\n",
       "      <td>0.256564</td>\n",
       "      <td>2.092790</td>\n",
       "      <td>2.594348</td>\n",
       "      <td>0.251001</td>\n",
       "      <td>0.191811</td>\n",
       "      <td>2.361816</td>\n",
       "      <td>0.223632</td>\n",
       "      <td>...</td>\n",
       "      <td>0.187556</td>\n",
       "      <td>0.420347</td>\n",
       "      <td>0.335062</td>\n",
       "      <td>0.252995</td>\n",
       "      <td>0.365278</td>\n",
       "      <td>1.370999</td>\n",
       "      <td>Ts65Dn</td>\n",
       "      <td>Saline</td>\n",
       "      <td>S/C</td>\n",
       "      <td>t-SC-s</td>\n",
       "    </tr>\n",
       "  </tbody>\n",
       "</table>\n",
       "<p>1080 rows × 82 columns</p>\n",
       "</div>"
      ],
      "text/plain": [
       "       MouseID  DYRK1A_N   ITSN1_N    BDNF_N     NR1_N    NR2A_N    pAKT_N  \\\n",
       "0        309_1  0.503644  0.747193  0.430175  2.816329  5.990152  0.218830   \n",
       "1        309_2  0.514617  0.689064  0.411770  2.789514  5.685038  0.211636   \n",
       "2        309_3  0.509183  0.730247  0.418309  2.687201  5.622059  0.209011   \n",
       "3        309_4  0.442107  0.617076  0.358626  2.466947  4.979503  0.222886   \n",
       "4        309_5  0.434940  0.617430  0.358802  2.365785  4.718679  0.213106   \n",
       "...        ...       ...       ...       ...       ...       ...       ...   \n",
       "1075  J3295_11  0.254860  0.463591  0.254860  2.092082  2.600035  0.211736   \n",
       "1076  J3295_12  0.272198  0.474163  0.251638  2.161390  2.801492  0.251274   \n",
       "1077  J3295_13  0.228700  0.395179  0.234118  1.733184  2.220852  0.220665   \n",
       "1078  J3295_14  0.221242  0.412894  0.243974  1.876347  2.384088  0.208897   \n",
       "1079  J3295_15  0.302626  0.461059  0.256564  2.092790  2.594348  0.251001   \n",
       "\n",
       "       pBRAF_N  pCAMKII_N   pCREB_N  ...   pCFOS_N     SYP_N  H3AcK18_N  \\\n",
       "0     0.177565   2.373744  0.232224  ...  0.108336  0.427099   0.114783   \n",
       "1     0.172817   2.292150  0.226972  ...  0.104315  0.441581   0.111974   \n",
       "2     0.175722   2.283337  0.230247  ...  0.106219  0.435777   0.111883   \n",
       "3     0.176463   2.152301  0.207004  ...  0.111262  0.391691   0.130405   \n",
       "4     0.173627   2.134014  0.192158  ...  0.110694  0.434154   0.118481   \n",
       "...        ...        ...       ...  ...       ...       ...        ...   \n",
       "1075  0.171262   2.483740  0.207317  ...  0.183324  0.374088   0.318782   \n",
       "1076  0.182496   2.512737  0.216339  ...  0.175674  0.375259   0.325639   \n",
       "1077  0.161435   1.989723  0.185164  ...  0.158296  0.422121   0.321306   \n",
       "1078  0.173623   2.086028  0.192044  ...  0.196296  0.397676   0.335936   \n",
       "1079  0.191811   2.361816  0.223632  ...  0.187556  0.420347   0.335062   \n",
       "\n",
       "        EGR1_N  H3MeK4_N    CaNA_N  Genotype  Treatment  Behavior   class  \n",
       "0     0.131790  0.128186  1.675652   Control  Memantine       C/S  c-CS-m  \n",
       "1     0.135103  0.131119  1.743610   Control  Memantine       C/S  c-CS-m  \n",
       "2     0.133362  0.127431  1.926427   Control  Memantine       C/S  c-CS-m  \n",
       "3     0.147444  0.146901  1.700563   Control  Memantine       C/S  c-CS-m  \n",
       "4     0.140314  0.148380  1.839730   Control  Memantine       C/S  c-CS-m  \n",
       "...        ...       ...       ...       ...        ...       ...     ...  \n",
       "1075  0.204660  0.328327  1.364823    Ts65Dn     Saline       S/C  t-SC-s  \n",
       "1076  0.200415  0.293435  1.364478    Ts65Dn     Saline       S/C  t-SC-s  \n",
       "1077  0.229193  0.355213  1.430825    Ts65Dn     Saline       S/C  t-SC-s  \n",
       "1078  0.251317  0.365353  1.404031    Ts65Dn     Saline       S/C  t-SC-s  \n",
       "1079  0.252995  0.365278  1.370999    Ts65Dn     Saline       S/C  t-SC-s  \n",
       "\n",
       "[1080 rows x 82 columns]"
      ]
     },
     "execution_count": 2,
     "metadata": {},
     "output_type": "execute_result"
    }
   ],
   "source": [
    "import pandas as pd\n",
    "mice = pd.read_csv('Data_Cortex_Nuclear.csv')\n",
    "mice"
   ]
  },
  {
   "cell_type": "markdown",
   "metadata": {
    "slideshow": {
     "slide_type": "slide"
    }
   },
   "source": [
    "## Goal is to use protein expression levels to classify mice based on the following classes:"
   ]
  },
  {
   "cell_type": "markdown",
   "metadata": {
    "slideshow": {
     "slide_type": "-"
    }
   },
   "source": [
    "1. c-CS-s: control mice, stimulated to learn, injected with saline (9 mice)\n",
    "2. c-CS-m: control mice, stimulated to learn, injected with memantine (10 mice)\n",
    "3. c-SC-s: control mice, not stimulated to learn, injected with saline (9 mice)\n",
    "4. c-SC-m: control mice, not stimulated to learn, injected with memantine (10 mice)\n",
    "5. t-CS-s: trisomy mice, stimulated to learn, injected with saline (7 mice)\n",
    "6. t-CS-m: trisomy mice, stimulated to learn, injected with memantine (9 mice)\n",
    "7. t-SC-s: trisomy mice, not stimulated to learn, injected with saline (9 mice)\n",
    "8. t-SC-m: trisomy mice, not stimulated to learn, injected with memantine (9 mice)"
   ]
  },
  {
   "cell_type": "markdown",
   "metadata": {
    "slideshow": {
     "slide_type": "slide"
    }
   },
   "source": [
    "## First, throw out data points with missing measurements"
   ]
  },
  {
   "cell_type": "code",
   "execution_count": 3,
   "metadata": {},
   "outputs": [
    {
     "data": {
      "text/plain": [
       "MouseID      0\n",
       "DYRK1A_N     3\n",
       "ITSN1_N      3\n",
       "BDNF_N       3\n",
       "NR1_N        3\n",
       "            ..\n",
       "CaNA_N       0\n",
       "Genotype     0\n",
       "Treatment    0\n",
       "Behavior     0\n",
       "class        0\n",
       "Length: 82, dtype: int64"
      ]
     },
     "execution_count": 3,
     "metadata": {},
     "output_type": "execute_result"
    }
   ],
   "source": [
    "mice.isnull().sum()"
   ]
  },
  {
   "cell_type": "code",
   "execution_count": 4,
   "metadata": {
    "slideshow": {
     "slide_type": "fragment"
    }
   },
   "outputs": [],
   "source": [
    "mice = mice.dropna()"
   ]
  },
  {
   "cell_type": "markdown",
   "metadata": {
    "slideshow": {
     "slide_type": "slide"
    }
   },
   "source": [
    "## Can we predict genotype based on protein expression?"
   ]
  },
  {
   "cell_type": "code",
   "execution_count": 5,
   "metadata": {},
   "outputs": [
    {
     "data": {
      "text/plain": [
       "((552, 77), (552,))"
      ]
     },
     "execution_count": 5,
     "metadata": {},
     "output_type": "execute_result"
    }
   ],
   "source": [
    "X = mice.loc[:,'DYRK1A_N':'CaNA_N']  # just protein expression levels\n",
    "y = mice['Genotype']\n",
    "\n",
    "X.shape, y.shape"
   ]
  },
  {
   "cell_type": "code",
   "execution_count": 6,
   "metadata": {
    "slideshow": {
     "slide_type": "fragment"
    }
   },
   "outputs": [
    {
     "data": {
      "text/html": [
       "<div>\n",
       "<style scoped>\n",
       "    .dataframe tbody tr th:only-of-type {\n",
       "        vertical-align: middle;\n",
       "    }\n",
       "\n",
       "    .dataframe tbody tr th {\n",
       "        vertical-align: top;\n",
       "    }\n",
       "\n",
       "    .dataframe thead th {\n",
       "        text-align: right;\n",
       "    }\n",
       "</style>\n",
       "<table border=\"1\" class=\"dataframe\">\n",
       "  <thead>\n",
       "    <tr style=\"text-align: right;\">\n",
       "      <th></th>\n",
       "      <th>Genotype</th>\n",
       "      <th>DYRK1A_N</th>\n",
       "      <th>ITSN1_N</th>\n",
       "      <th>BDNF_N</th>\n",
       "      <th>NR1_N</th>\n",
       "      <th>NR2A_N</th>\n",
       "      <th>pAKT_N</th>\n",
       "      <th>pBRAF_N</th>\n",
       "      <th>pCAMKII_N</th>\n",
       "      <th>pCREB_N</th>\n",
       "      <th>...</th>\n",
       "      <th>SHH_N</th>\n",
       "      <th>BAD_N</th>\n",
       "      <th>BCL2_N</th>\n",
       "      <th>pS6_N</th>\n",
       "      <th>pCFOS_N</th>\n",
       "      <th>SYP_N</th>\n",
       "      <th>H3AcK18_N</th>\n",
       "      <th>EGR1_N</th>\n",
       "      <th>H3MeK4_N</th>\n",
       "      <th>CaNA_N</th>\n",
       "    </tr>\n",
       "  </thead>\n",
       "  <tbody>\n",
       "    <tr>\n",
       "      <th>75</th>\n",
       "      <td>Control</td>\n",
       "      <td>0.649781</td>\n",
       "      <td>0.828696</td>\n",
       "      <td>0.405862</td>\n",
       "      <td>2.921435</td>\n",
       "      <td>5.167979</td>\n",
       "      <td>0.207174</td>\n",
       "      <td>0.176640</td>\n",
       "      <td>3.728084</td>\n",
       "      <td>0.239283</td>\n",
       "      <td>...</td>\n",
       "      <td>0.239752</td>\n",
       "      <td>0.139052</td>\n",
       "      <td>0.112926</td>\n",
       "      <td>0.132001</td>\n",
       "      <td>0.129363</td>\n",
       "      <td>0.486912</td>\n",
       "      <td>0.125152</td>\n",
       "      <td>0.146865</td>\n",
       "      <td>0.143517</td>\n",
       "      <td>1.627181</td>\n",
       "    </tr>\n",
       "    <tr>\n",
       "      <th>76</th>\n",
       "      <td>Control</td>\n",
       "      <td>0.616481</td>\n",
       "      <td>0.841974</td>\n",
       "      <td>0.388584</td>\n",
       "      <td>2.862575</td>\n",
       "      <td>5.194163</td>\n",
       "      <td>0.223433</td>\n",
       "      <td>0.167725</td>\n",
       "      <td>3.648240</td>\n",
       "      <td>0.221030</td>\n",
       "      <td>...</td>\n",
       "      <td>0.249031</td>\n",
       "      <td>0.133787</td>\n",
       "      <td>0.121607</td>\n",
       "      <td>0.139008</td>\n",
       "      <td>0.143084</td>\n",
       "      <td>0.467833</td>\n",
       "      <td>0.112857</td>\n",
       "      <td>0.161132</td>\n",
       "      <td>0.145719</td>\n",
       "      <td>1.562096</td>\n",
       "    </tr>\n",
       "    <tr>\n",
       "      <th>77</th>\n",
       "      <td>Control</td>\n",
       "      <td>0.637424</td>\n",
       "      <td>0.852882</td>\n",
       "      <td>0.400561</td>\n",
       "      <td>2.968155</td>\n",
       "      <td>5.350820</td>\n",
       "      <td>0.208790</td>\n",
       "      <td>0.173261</td>\n",
       "      <td>3.814545</td>\n",
       "      <td>0.222300</td>\n",
       "      <td>...</td>\n",
       "      <td>0.247956</td>\n",
       "      <td>0.142324</td>\n",
       "      <td>0.130261</td>\n",
       "      <td>0.134804</td>\n",
       "      <td>0.147673</td>\n",
       "      <td>0.462501</td>\n",
       "      <td>0.116433</td>\n",
       "      <td>0.160594</td>\n",
       "      <td>0.142879</td>\n",
       "      <td>1.571868</td>\n",
       "    </tr>\n",
       "    <tr>\n",
       "      <th>78</th>\n",
       "      <td>Control</td>\n",
       "      <td>0.576815</td>\n",
       "      <td>0.755390</td>\n",
       "      <td>0.348346</td>\n",
       "      <td>2.624901</td>\n",
       "      <td>4.727509</td>\n",
       "      <td>0.205892</td>\n",
       "      <td>0.161192</td>\n",
       "      <td>3.778530</td>\n",
       "      <td>0.194153</td>\n",
       "      <td>...</td>\n",
       "      <td>0.233225</td>\n",
       "      <td>0.133637</td>\n",
       "      <td>0.107321</td>\n",
       "      <td>0.118982</td>\n",
       "      <td>0.121290</td>\n",
       "      <td>0.479110</td>\n",
       "      <td>0.102831</td>\n",
       "      <td>0.144238</td>\n",
       "      <td>0.141681</td>\n",
       "      <td>1.646608</td>\n",
       "    </tr>\n",
       "    <tr>\n",
       "      <th>79</th>\n",
       "      <td>Control</td>\n",
       "      <td>0.542545</td>\n",
       "      <td>0.757917</td>\n",
       "      <td>0.350051</td>\n",
       "      <td>2.634509</td>\n",
       "      <td>4.735602</td>\n",
       "      <td>0.210526</td>\n",
       "      <td>0.165671</td>\n",
       "      <td>3.871971</td>\n",
       "      <td>0.194297</td>\n",
       "      <td>...</td>\n",
       "      <td>0.244469</td>\n",
       "      <td>0.133358</td>\n",
       "      <td>0.112851</td>\n",
       "      <td>0.128635</td>\n",
       "      <td>0.142617</td>\n",
       "      <td>0.438354</td>\n",
       "      <td>0.110614</td>\n",
       "      <td>0.155667</td>\n",
       "      <td>0.146408</td>\n",
       "      <td>1.607631</td>\n",
       "    </tr>\n",
       "    <tr>\n",
       "      <th>...</th>\n",
       "      <td>...</td>\n",
       "      <td>...</td>\n",
       "      <td>...</td>\n",
       "      <td>...</td>\n",
       "      <td>...</td>\n",
       "      <td>...</td>\n",
       "      <td>...</td>\n",
       "      <td>...</td>\n",
       "      <td>...</td>\n",
       "      <td>...</td>\n",
       "      <td>...</td>\n",
       "      <td>...</td>\n",
       "      <td>...</td>\n",
       "      <td>...</td>\n",
       "      <td>...</td>\n",
       "      <td>...</td>\n",
       "      <td>...</td>\n",
       "      <td>...</td>\n",
       "      <td>...</td>\n",
       "      <td>...</td>\n",
       "      <td>...</td>\n",
       "    </tr>\n",
       "    <tr>\n",
       "      <th>1045</th>\n",
       "      <td>Ts65Dn</td>\n",
       "      <td>0.382149</td>\n",
       "      <td>0.595792</td>\n",
       "      <td>0.399101</td>\n",
       "      <td>2.527574</td>\n",
       "      <td>4.629493</td>\n",
       "      <td>0.317810</td>\n",
       "      <td>0.213235</td>\n",
       "      <td>6.219567</td>\n",
       "      <td>0.232639</td>\n",
       "      <td>...</td>\n",
       "      <td>0.245705</td>\n",
       "      <td>0.184612</td>\n",
       "      <td>0.133317</td>\n",
       "      <td>0.132591</td>\n",
       "      <td>0.122308</td>\n",
       "      <td>0.507017</td>\n",
       "      <td>0.172393</td>\n",
       "      <td>0.200097</td>\n",
       "      <td>0.221994</td>\n",
       "      <td>1.141423</td>\n",
       "    </tr>\n",
       "    <tr>\n",
       "      <th>1046</th>\n",
       "      <td>Ts65Dn</td>\n",
       "      <td>0.387947</td>\n",
       "      <td>0.586510</td>\n",
       "      <td>0.431650</td>\n",
       "      <td>2.527041</td>\n",
       "      <td>4.781082</td>\n",
       "      <td>0.316903</td>\n",
       "      <td>0.222111</td>\n",
       "      <td>6.307723</td>\n",
       "      <td>0.239074</td>\n",
       "      <td>...</td>\n",
       "      <td>0.261893</td>\n",
       "      <td>0.188972</td>\n",
       "      <td>0.153772</td>\n",
       "      <td>0.132869</td>\n",
       "      <td>0.121216</td>\n",
       "      <td>0.492432</td>\n",
       "      <td>0.177319</td>\n",
       "      <td>0.207593</td>\n",
       "      <td>0.235223</td>\n",
       "      <td>1.104757</td>\n",
       "    </tr>\n",
       "    <tr>\n",
       "      <th>1047</th>\n",
       "      <td>Ts65Dn</td>\n",
       "      <td>0.343695</td>\n",
       "      <td>0.562547</td>\n",
       "      <td>0.361243</td>\n",
       "      <td>2.412885</td>\n",
       "      <td>3.949361</td>\n",
       "      <td>0.330158</td>\n",
       "      <td>0.225620</td>\n",
       "      <td>6.060165</td>\n",
       "      <td>0.254951</td>\n",
       "      <td>...</td>\n",
       "      <td>0.232715</td>\n",
       "      <td>0.189189</td>\n",
       "      <td>0.146135</td>\n",
       "      <td>0.129793</td>\n",
       "      <td>0.121936</td>\n",
       "      <td>0.490258</td>\n",
       "      <td>0.169076</td>\n",
       "      <td>0.182590</td>\n",
       "      <td>0.243715</td>\n",
       "      <td>1.104494</td>\n",
       "    </tr>\n",
       "    <tr>\n",
       "      <th>1048</th>\n",
       "      <td>Ts65Dn</td>\n",
       "      <td>0.346594</td>\n",
       "      <td>0.551467</td>\n",
       "      <td>0.390353</td>\n",
       "      <td>2.445052</td>\n",
       "      <td>4.236201</td>\n",
       "      <td>0.343610</td>\n",
       "      <td>0.229239</td>\n",
       "      <td>6.023371</td>\n",
       "      <td>0.240676</td>\n",
       "      <td>...</td>\n",
       "      <td>0.231471</td>\n",
       "      <td>0.208497</td>\n",
       "      <td>0.155311</td>\n",
       "      <td>0.120850</td>\n",
       "      <td>0.136900</td>\n",
       "      <td>0.502282</td>\n",
       "      <td>0.180016</td>\n",
       "      <td>0.199685</td>\n",
       "      <td>0.269866</td>\n",
       "      <td>1.136585</td>\n",
       "    </tr>\n",
       "    <tr>\n",
       "      <th>1049</th>\n",
       "      <td>Ts65Dn</td>\n",
       "      <td>0.365907</td>\n",
       "      <td>0.552861</td>\n",
       "      <td>0.386275</td>\n",
       "      <td>2.473812</td>\n",
       "      <td>4.347236</td>\n",
       "      <td>0.353783</td>\n",
       "      <td>0.232784</td>\n",
       "      <td>6.085354</td>\n",
       "      <td>0.242726</td>\n",
       "      <td>...</td>\n",
       "      <td>0.234248</td>\n",
       "      <td>0.213662</td>\n",
       "      <td>0.172645</td>\n",
       "      <td>0.114941</td>\n",
       "      <td>0.130069</td>\n",
       "      <td>0.487991</td>\n",
       "      <td>0.194635</td>\n",
       "      <td>0.220056</td>\n",
       "      <td>0.242514</td>\n",
       "      <td>1.085621</td>\n",
       "    </tr>\n",
       "  </tbody>\n",
       "</table>\n",
       "<p>552 rows × 78 columns</p>\n",
       "</div>"
      ],
      "text/plain": [
       "     Genotype  DYRK1A_N   ITSN1_N    BDNF_N     NR1_N    NR2A_N    pAKT_N  \\\n",
       "75    Control  0.649781  0.828696  0.405862  2.921435  5.167979  0.207174   \n",
       "76    Control  0.616481  0.841974  0.388584  2.862575  5.194163  0.223433   \n",
       "77    Control  0.637424  0.852882  0.400561  2.968155  5.350820  0.208790   \n",
       "78    Control  0.576815  0.755390  0.348346  2.624901  4.727509  0.205892   \n",
       "79    Control  0.542545  0.757917  0.350051  2.634509  4.735602  0.210526   \n",
       "...       ...       ...       ...       ...       ...       ...       ...   \n",
       "1045   Ts65Dn  0.382149  0.595792  0.399101  2.527574  4.629493  0.317810   \n",
       "1046   Ts65Dn  0.387947  0.586510  0.431650  2.527041  4.781082  0.316903   \n",
       "1047   Ts65Dn  0.343695  0.562547  0.361243  2.412885  3.949361  0.330158   \n",
       "1048   Ts65Dn  0.346594  0.551467  0.390353  2.445052  4.236201  0.343610   \n",
       "1049   Ts65Dn  0.365907  0.552861  0.386275  2.473812  4.347236  0.353783   \n",
       "\n",
       "       pBRAF_N  pCAMKII_N   pCREB_N  ...     SHH_N     BAD_N    BCL2_N  \\\n",
       "75    0.176640   3.728084  0.239283  ...  0.239752  0.139052  0.112926   \n",
       "76    0.167725   3.648240  0.221030  ...  0.249031  0.133787  0.121607   \n",
       "77    0.173261   3.814545  0.222300  ...  0.247956  0.142324  0.130261   \n",
       "78    0.161192   3.778530  0.194153  ...  0.233225  0.133637  0.107321   \n",
       "79    0.165671   3.871971  0.194297  ...  0.244469  0.133358  0.112851   \n",
       "...        ...        ...       ...  ...       ...       ...       ...   \n",
       "1045  0.213235   6.219567  0.232639  ...  0.245705  0.184612  0.133317   \n",
       "1046  0.222111   6.307723  0.239074  ...  0.261893  0.188972  0.153772   \n",
       "1047  0.225620   6.060165  0.254951  ...  0.232715  0.189189  0.146135   \n",
       "1048  0.229239   6.023371  0.240676  ...  0.231471  0.208497  0.155311   \n",
       "1049  0.232784   6.085354  0.242726  ...  0.234248  0.213662  0.172645   \n",
       "\n",
       "         pS6_N   pCFOS_N     SYP_N  H3AcK18_N    EGR1_N  H3MeK4_N    CaNA_N  \n",
       "75    0.132001  0.129363  0.486912   0.125152  0.146865  0.143517  1.627181  \n",
       "76    0.139008  0.143084  0.467833   0.112857  0.161132  0.145719  1.562096  \n",
       "77    0.134804  0.147673  0.462501   0.116433  0.160594  0.142879  1.571868  \n",
       "78    0.118982  0.121290  0.479110   0.102831  0.144238  0.141681  1.646608  \n",
       "79    0.128635  0.142617  0.438354   0.110614  0.155667  0.146408  1.607631  \n",
       "...        ...       ...       ...        ...       ...       ...       ...  \n",
       "1045  0.132591  0.122308  0.507017   0.172393  0.200097  0.221994  1.141423  \n",
       "1046  0.132869  0.121216  0.492432   0.177319  0.207593  0.235223  1.104757  \n",
       "1047  0.129793  0.121936  0.490258   0.169076  0.182590  0.243715  1.104494  \n",
       "1048  0.120850  0.136900  0.502282   0.180016  0.199685  0.269866  1.136585  \n",
       "1049  0.114941  0.130069  0.487991   0.194635  0.220056  0.242514  1.085621  \n",
       "\n",
       "[552 rows x 78 columns]"
      ]
     },
     "execution_count": 6,
     "metadata": {},
     "output_type": "execute_result"
    }
   ],
   "source": [
    "pd.DataFrame(y).join(X)"
   ]
  },
  {
   "cell_type": "markdown",
   "metadata": {
    "slideshow": {
     "slide_type": "slide"
    }
   },
   "source": [
    "## The problem with linear regression"
   ]
  },
  {
   "cell_type": "markdown",
   "metadata": {},
   "source": [
    "### A general linear model\n",
    "\n",
    "### $y = \\beta_0 + \\beta_1 x_1 + \\dots + \\beta_n x_n$"
   ]
  },
  {
   "cell_type": "markdown",
   "metadata": {
    "slideshow": {
     "slide_type": "fragment"
    }
   },
   "source": [
    "### But $y$ (*Genotype*) will be a continuous variable, whereas it needs to be one of two things: *Control* or *Ts65Dn*."
   ]
  },
  {
   "cell_type": "markdown",
   "metadata": {
    "slideshow": {
     "slide_type": "slide"
    }
   },
   "source": [
    "## We could still try to use linear regression and just impose a threshold to do the classification.\n",
    "\n",
    "![](images/linear-regression-threshold.jpeg)\n",
    "\n",
    "Image from https://towardsdatascience.com/understanding-logistic-regression-9b02c2aec102"
   ]
  },
  {
   "cell_type": "markdown",
   "metadata": {
    "slideshow": {
     "slide_type": "slide"
    }
   },
   "source": [
    "## But what if we have an outlier in the data?\n",
    "\n",
    "![](images/linear-regression-threshold-outlier.png)\n",
    "\n",
    "Image from https://towardsdatascience.com/understanding-logistic-regression-9b02c2aec102"
   ]
  },
  {
   "cell_type": "markdown",
   "metadata": {
    "slideshow": {
     "slide_type": "fragment"
    }
   },
   "source": [
    "### Non-ideal data could easily lead to misclassification using a linear model."
   ]
  },
  {
   "cell_type": "markdown",
   "metadata": {
    "slideshow": {
     "slide_type": "slide"
    }
   },
   "source": [
    "## The logistic (sigmoidal) function"
   ]
  },
  {
   "cell_type": "markdown",
   "metadata": {},
   "source": [
    "# $sigmoid(x) = \\frac{1}{1 + e^{-x}} = \\frac{e^x}{1 + e^x}$"
   ]
  },
  {
   "cell_type": "code",
   "execution_count": 7,
   "metadata": {
    "slideshow": {
     "slide_type": "-"
    }
   },
   "outputs": [
    {
     "data": {
      "image/png": "[encoded data removed]",
      "text/plain": [
       "<Figure size 576x360 with 1 Axes>"
      ]
     },
     "metadata": {
      "image/png": {
       "height": 319,
       "width": 483
      },
      "needs_background": "light"
     },
     "output_type": "display_data"
    }
   ],
   "source": [
    "x = np.linspace(-6, 6, 100)\n",
    "y = 1 / (1 + np.exp(-x))\n",
    "\n",
    "plt.plot(x, y)\n",
    "plt.title('sigmoid');"
   ]
  },
  {
   "cell_type": "markdown",
   "metadata": {
    "slideshow": {
     "slide_type": "slide"
    }
   },
   "source": [
    "## A sigmoidal function will better classify categorical data and will be less prone to error due to outliers.\n",
    "\n",
    "![](images/logistic-regression-classifier.png)\n",
    "\n",
    "Image from https://towardsdatascience.com/understanding-logistic-regression-9b02c2aec102"
   ]
  },
  {
   "cell_type": "markdown",
   "metadata": {
    "slideshow": {
     "slide_type": "slide"
    }
   },
   "source": [
    "# Logistic regression"
   ]
  },
  {
   "cell_type": "markdown",
   "metadata": {
    "slideshow": {
     "slide_type": "-"
    }
   },
   "source": [
    "# $p = \\frac{1}{1 + e^{-(\\beta_0 + \\beta_1 x_1 + \\dots + \\beta_n x_n)}}$"
   ]
  },
  {
   "cell_type": "markdown",
   "metadata": {
    "slideshow": {
     "slide_type": "fragment"
    }
   },
   "source": [
    "# $y = \\left\\{ \\begin{matrix}\n",
    "0 & if & p \\le 0.5 & \\rightarrow e.g.\\; Control \\\\\n",
    "1 & if & p > 0.5 & \\rightarrow e.g.\\; Ts65Dn \\\\\n",
    "\\end{matrix} \\right\\}$"
   ]
  },
  {
   "cell_type": "markdown",
   "metadata": {
    "slideshow": {
     "slide_type": "slide"
    }
   },
   "source": [
    "## Can we predict genotype based on protein expression using logistic regression?"
   ]
  },
  {
   "cell_type": "code",
   "execution_count": 8,
   "metadata": {},
   "outputs": [
    {
     "data": {
      "text/plain": [
       "((552, 77), (552,))"
      ]
     },
     "execution_count": 8,
     "metadata": {},
     "output_type": "execute_result"
    }
   ],
   "source": [
    "X = mice.loc[:,'DYRK1A_N':'CaNA_N']  # just protein expression levels\n",
    "y = mice['Genotype']\n",
    "\n",
    "X.shape, y.shape"
   ]
  },
  {
   "cell_type": "code",
   "execution_count": 9,
   "metadata": {
    "slideshow": {
     "slide_type": "fragment"
    }
   },
   "outputs": [],
   "source": [
    "from sklearn.model_selection import train_test_split"
   ]
  },
  {
   "cell_type": "code",
   "execution_count": 10,
   "metadata": {
    "slideshow": {
     "slide_type": "fragment"
    }
   },
   "outputs": [],
   "source": [
    "X_train, X_test, y_train, y_test = train_test_split(X, y, test_size=0.4, random_state=1)"
   ]
  },
  {
   "cell_type": "code",
   "execution_count": 11,
   "metadata": {
    "slideshow": {
     "slide_type": "slide"
    }
   },
   "outputs": [],
   "source": [
    "from sklearn.linear_model import LogisticRegression"
   ]
  },
  {
   "cell_type": "code",
   "execution_count": 12,
   "metadata": {
    "slideshow": {
     "slide_type": "fragment"
    }
   },
   "outputs": [
    {
     "name": "stderr",
     "output_type": "stream",
     "text": [
      "/Users/marcel/opt/anaconda3/lib/python3.8/site-packages/sklearn/linear_model/_logistic.py:763: ConvergenceWarning: lbfgs failed to converge (status=1):\n",
      "STOP: TOTAL NO. of ITERATIONS REACHED LIMIT.\n",
      "\n",
      "Increase the number of iterations (max_iter) or scale the data as shown in:\n",
      "    https://scikit-learn.org/stable/modules/preprocessing.html\n",
      "Please also refer to the documentation for alternative solver options:\n",
      "    https://scikit-learn.org/stable/modules/linear_model.html#logistic-regression\n",
      "  n_iter_i = _check_optimize_result(\n"
     ]
    },
    {
     "data": {
      "text/plain": [
       "LogisticRegression()"
      ]
     },
     "execution_count": 12,
     "metadata": {},
     "output_type": "execute_result"
    }
   ],
   "source": [
    "model = LogisticRegression()\n",
    "model.fit(X_train, y_train)"
   ]
  },
  {
   "cell_type": "markdown",
   "metadata": {
    "slideshow": {
     "slide_type": "slide"
    }
   },
   "source": [
    "## How accurate are the model predictions?"
   ]
  },
  {
   "cell_type": "code",
   "execution_count": 13,
   "metadata": {},
   "outputs": [
    {
     "data": {
      "text/plain": [
       "0.9049773755656109"
      ]
     },
     "execution_count": 13,
     "metadata": {},
     "output_type": "execute_result"
    }
   ],
   "source": [
    "y_test_pred = model.predict(X_test)\n",
    "\n",
    "lr_genotype_accuracy = model.score(X_test, y_test)\n",
    "lr_genotype_accuracy"
   ]
  },
  {
   "cell_type": "code",
   "execution_count": 14,
   "metadata": {
    "slideshow": {
     "slide_type": "fragment"
    }
   },
   "outputs": [
    {
     "data": {
      "text/html": [
       "<div>\n",
       "<style scoped>\n",
       "    .dataframe tbody tr th:only-of-type {\n",
       "        vertical-align: middle;\n",
       "    }\n",
       "\n",
       "    .dataframe tbody tr th {\n",
       "        vertical-align: top;\n",
       "    }\n",
       "\n",
       "    .dataframe thead th {\n",
       "        text-align: right;\n",
       "    }\n",
       "</style>\n",
       "<table border=\"1\" class=\"dataframe\">\n",
       "  <thead>\n",
       "    <tr style=\"text-align: right;\">\n",
       "      <th></th>\n",
       "      <th>Genotype</th>\n",
       "      <th>LR Predicted Genotype</th>\n",
       "    </tr>\n",
       "  </thead>\n",
       "  <tbody>\n",
       "    <tr>\n",
       "      <th>754</th>\n",
       "      <td>Ts65Dn</td>\n",
       "      <td>Ts65Dn</td>\n",
       "    </tr>\n",
       "    <tr>\n",
       "      <th>532</th>\n",
       "      <td>Control</td>\n",
       "      <td>Control</td>\n",
       "    </tr>\n",
       "    <tr>\n",
       "      <th>185</th>\n",
       "      <td>Control</td>\n",
       "      <td>Control</td>\n",
       "    </tr>\n",
       "    <tr>\n",
       "      <th>522</th>\n",
       "      <td>Control</td>\n",
       "      <td>Control</td>\n",
       "    </tr>\n",
       "    <tr>\n",
       "      <th>1045</th>\n",
       "      <td>Ts65Dn</td>\n",
       "      <td>Ts65Dn</td>\n",
       "    </tr>\n",
       "    <tr>\n",
       "      <th>...</th>\n",
       "      <td>...</td>\n",
       "      <td>...</td>\n",
       "    </tr>\n",
       "    <tr>\n",
       "      <th>694</th>\n",
       "      <td>Ts65Dn</td>\n",
       "      <td>Ts65Dn</td>\n",
       "    </tr>\n",
       "    <tr>\n",
       "      <th>667</th>\n",
       "      <td>Ts65Dn</td>\n",
       "      <td>Ts65Dn</td>\n",
       "    </tr>\n",
       "    <tr>\n",
       "      <th>666</th>\n",
       "      <td>Ts65Dn</td>\n",
       "      <td>Ts65Dn</td>\n",
       "    </tr>\n",
       "    <tr>\n",
       "      <th>352</th>\n",
       "      <td>Control</td>\n",
       "      <td>Control</td>\n",
       "    </tr>\n",
       "    <tr>\n",
       "      <th>232</th>\n",
       "      <td>Control</td>\n",
       "      <td>Control</td>\n",
       "    </tr>\n",
       "  </tbody>\n",
       "</table>\n",
       "<p>221 rows × 2 columns</p>\n",
       "</div>"
      ],
      "text/plain": [
       "     Genotype LR Predicted Genotype\n",
       "754    Ts65Dn                Ts65Dn\n",
       "532   Control               Control\n",
       "185   Control               Control\n",
       "522   Control               Control\n",
       "1045   Ts65Dn                Ts65Dn\n",
       "...       ...                   ...\n",
       "694    Ts65Dn                Ts65Dn\n",
       "667    Ts65Dn                Ts65Dn\n",
       "666    Ts65Dn                Ts65Dn\n",
       "352   Control               Control\n",
       "232   Control               Control\n",
       "\n",
       "[221 rows x 2 columns]"
      ]
     },
     "execution_count": 14,
     "metadata": {},
     "output_type": "execute_result"
    }
   ],
   "source": [
    "genotype_results = pd.DataFrame(y_test)\n",
    "genotype_results['LR Predicted Genotype'] = y_test_pred\n",
    "genotype_results"
   ]
  },
  {
   "cell_type": "markdown",
   "metadata": {
    "slideshow": {
     "slide_type": "slide"
    }
   },
   "source": [
    "## Probabilities for each class"
   ]
  },
  {
   "cell_type": "code",
   "execution_count": 15,
   "metadata": {},
   "outputs": [
    {
     "data": {
      "text/plain": [
       "(221, 2)"
      ]
     },
     "execution_count": 15,
     "metadata": {},
     "output_type": "execute_result"
    }
   ],
   "source": [
    "y_test_proba = model.predict_proba(X_test)\n",
    "y_test_proba.shape"
   ]
  },
  {
   "cell_type": "code",
   "execution_count": 16,
   "metadata": {
    "slideshow": {
     "slide_type": "fragment"
    }
   },
   "outputs": [
    {
     "data": {
      "text/plain": [
       "array(['Control', 'Ts65Dn'], dtype=object)"
      ]
     },
     "execution_count": 16,
     "metadata": {},
     "output_type": "execute_result"
    }
   ],
   "source": [
    "model.classes_"
   ]
  },
  {
   "cell_type": "code",
   "execution_count": 17,
   "metadata": {
    "scrolled": false,
    "slideshow": {
     "slide_type": "fragment"
    }
   },
   "outputs": [
    {
     "data": {
      "text/html": [
       "<div>\n",
       "<style scoped>\n",
       "    .dataframe tbody tr th:only-of-type {\n",
       "        vertical-align: middle;\n",
       "    }\n",
       "\n",
       "    .dataframe tbody tr th {\n",
       "        vertical-align: top;\n",
       "    }\n",
       "\n",
       "    .dataframe thead th {\n",
       "        text-align: right;\n",
       "    }\n",
       "</style>\n",
       "<table border=\"1\" class=\"dataframe\">\n",
       "  <thead>\n",
       "    <tr style=\"text-align: right;\">\n",
       "      <th></th>\n",
       "      <th>Genotype</th>\n",
       "      <th>LR Predicted Genotype</th>\n",
       "      <th>LR P(Control)</th>\n",
       "      <th>LR P(Ts65Dn)</th>\n",
       "    </tr>\n",
       "  </thead>\n",
       "  <tbody>\n",
       "    <tr>\n",
       "      <th>754</th>\n",
       "      <td>Ts65Dn</td>\n",
       "      <td>Ts65Dn</td>\n",
       "      <td>0.326525</td>\n",
       "      <td>0.673475</td>\n",
       "    </tr>\n",
       "    <tr>\n",
       "      <th>532</th>\n",
       "      <td>Control</td>\n",
       "      <td>Control</td>\n",
       "      <td>0.904077</td>\n",
       "      <td>0.095923</td>\n",
       "    </tr>\n",
       "    <tr>\n",
       "      <th>185</th>\n",
       "      <td>Control</td>\n",
       "      <td>Control</td>\n",
       "      <td>0.915923</td>\n",
       "      <td>0.084077</td>\n",
       "    </tr>\n",
       "    <tr>\n",
       "      <th>522</th>\n",
       "      <td>Control</td>\n",
       "      <td>Control</td>\n",
       "      <td>0.809981</td>\n",
       "      <td>0.190019</td>\n",
       "    </tr>\n",
       "    <tr>\n",
       "      <th>1045</th>\n",
       "      <td>Ts65Dn</td>\n",
       "      <td>Ts65Dn</td>\n",
       "      <td>0.192639</td>\n",
       "      <td>0.807361</td>\n",
       "    </tr>\n",
       "    <tr>\n",
       "      <th>...</th>\n",
       "      <td>...</td>\n",
       "      <td>...</td>\n",
       "      <td>...</td>\n",
       "      <td>...</td>\n",
       "    </tr>\n",
       "    <tr>\n",
       "      <th>694</th>\n",
       "      <td>Ts65Dn</td>\n",
       "      <td>Ts65Dn</td>\n",
       "      <td>0.026192</td>\n",
       "      <td>0.973808</td>\n",
       "    </tr>\n",
       "    <tr>\n",
       "      <th>667</th>\n",
       "      <td>Ts65Dn</td>\n",
       "      <td>Ts65Dn</td>\n",
       "      <td>0.102601</td>\n",
       "      <td>0.897399</td>\n",
       "    </tr>\n",
       "    <tr>\n",
       "      <th>666</th>\n",
       "      <td>Ts65Dn</td>\n",
       "      <td>Ts65Dn</td>\n",
       "      <td>0.099556</td>\n",
       "      <td>0.900444</td>\n",
       "    </tr>\n",
       "    <tr>\n",
       "      <th>352</th>\n",
       "      <td>Control</td>\n",
       "      <td>Control</td>\n",
       "      <td>0.878955</td>\n",
       "      <td>0.121045</td>\n",
       "    </tr>\n",
       "    <tr>\n",
       "      <th>232</th>\n",
       "      <td>Control</td>\n",
       "      <td>Control</td>\n",
       "      <td>0.626852</td>\n",
       "      <td>0.373148</td>\n",
       "    </tr>\n",
       "  </tbody>\n",
       "</table>\n",
       "<p>221 rows × 4 columns</p>\n",
       "</div>"
      ],
      "text/plain": [
       "     Genotype LR Predicted Genotype  LR P(Control)  LR P(Ts65Dn)\n",
       "754    Ts65Dn                Ts65Dn       0.326525      0.673475\n",
       "532   Control               Control       0.904077      0.095923\n",
       "185   Control               Control       0.915923      0.084077\n",
       "522   Control               Control       0.809981      0.190019\n",
       "1045   Ts65Dn                Ts65Dn       0.192639      0.807361\n",
       "...       ...                   ...            ...           ...\n",
       "694    Ts65Dn                Ts65Dn       0.026192      0.973808\n",
       "667    Ts65Dn                Ts65Dn       0.102601      0.897399\n",
       "666    Ts65Dn                Ts65Dn       0.099556      0.900444\n",
       "352   Control               Control       0.878955      0.121045\n",
       "232   Control               Control       0.626852      0.373148\n",
       "\n",
       "[221 rows x 4 columns]"
      ]
     },
     "execution_count": 17,
     "metadata": {},
     "output_type": "execute_result"
    }
   ],
   "source": [
    "genotype_results['LR P(Control)'] = y_test_proba[:,0]\n",
    "genotype_results['LR P(Ts65Dn)'] = y_test_proba[:,1]\n",
    "genotype_results"
   ]
  },
  {
   "cell_type": "markdown",
   "metadata": {
    "slideshow": {
     "slide_type": "slide"
    }
   },
   "source": [
    "## Confusion matrix"
   ]
  },
  {
   "cell_type": "code",
   "execution_count": 18,
   "metadata": {},
   "outputs": [],
   "source": [
    "from sklearn.metrics import confusion_matrix, ConfusionMatrixDisplay"
   ]
  },
  {
   "cell_type": "code",
   "execution_count": 19,
   "metadata": {},
   "outputs": [
    {
     "data": {
      "text/plain": [
       "array([[ 89,   8],\n",
       "       [ 13, 111]])"
      ]
     },
     "execution_count": 19,
     "metadata": {},
     "output_type": "execute_result"
    }
   ],
   "source": [
    "cm = confusion_matrix(y_test, y_test_pred)\n",
    "cm"
   ]
  },
  {
   "cell_type": "code",
   "execution_count": 20,
   "metadata": {},
   "outputs": [
    {
     "data": {
      "image/png": "[encoded data removed]",
      "text/plain": [
       "<Figure size 576x360 with 2 Axes>"
      ]
     },
     "metadata": {
      "image/png": {
       "height": 320,
       "width": 409
      },
      "needs_background": "light"
     },
     "output_type": "display_data"
    }
   ],
   "source": [
    "lr_genotype_cmd = ConfusionMatrixDisplay(confusion_matrix=cm, display_labels=model.classes_)\n",
    "lr_genotype_cmd.plot();"
   ]
  },
  {
   "cell_type": "markdown",
   "metadata": {
    "slideshow": {
     "slide_type": "slide"
    }
   },
   "source": [
    "## $precision = \\frac{TP}{TP + FP}$\n",
    "\n",
    "precision is fraction of correct P predictions"
   ]
  },
  {
   "cell_type": "markdown",
   "metadata": {
    "slideshow": {
     "slide_type": "fragment"
    }
   },
   "source": [
    "## $recall = \\frac{TP}{TP + FN}$\n",
    "\n",
    "recall is fraction of true P correctly predicted"
   ]
  },
  {
   "cell_type": "markdown",
   "metadata": {
    "slideshow": {
     "slide_type": "fragment"
    }
   },
   "source": [
    "## $F1 = 2\\ \\frac{precision\\ \\times\\ recall}{precision\\ +\\ recall}$\n",
    "\n",
    "F1 score is the harmonic mean of the precision and recall\n",
    "\n",
    "$\\textrm{worst}\\; 0 \\le F1 \\le 1 \\;\\textrm{best}$"
   ]
  },
  {
   "cell_type": "code",
   "execution_count": 21,
   "metadata": {
    "slideshow": {
     "slide_type": "slide"
    }
   },
   "outputs": [
    {
     "name": "stdout",
     "output_type": "stream",
     "text": [
      "              precision    recall  f1-score   support\n",
      "\n",
      "     Control       0.87      0.92      0.89        97\n",
      "      Ts65Dn       0.93      0.90      0.91       124\n",
      "\n",
      "    accuracy                           0.90       221\n",
      "   macro avg       0.90      0.91      0.90       221\n",
      "weighted avg       0.91      0.90      0.91       221\n",
      "\n"
     ]
    }
   ],
   "source": [
    "from sklearn.metrics import classification_report\n",
    "\n",
    "print(classification_report(y_test, y_test_pred))"
   ]
  },
  {
   "cell_type": "markdown",
   "metadata": {
    "slideshow": {
     "slide_type": "slide"
    }
   },
   "source": [
    "## Reciever Operating Charachteristic (ROC) curve"
   ]
  },
  {
   "cell_type": "code",
   "execution_count": 22,
   "metadata": {},
   "outputs": [],
   "source": [
    "from sklearn.metrics import roc_curve, auc"
   ]
  },
  {
   "cell_type": "code",
   "execution_count": 23,
   "metadata": {},
   "outputs": [],
   "source": [
    "fpr, tpr, thresholds = roc_curve(y_test, y_test_proba[:,1], pos_label=model.classes_[1])"
   ]
  },
  {
   "cell_type": "code",
   "execution_count": 24,
   "metadata": {
    "slideshow": {
     "slide_type": "slide"
    }
   },
   "outputs": [
    {
     "data": {
      "image/png": "[encoded data removed]",
      "text/plain": [
       "<Figure size 576x360 with 1 Axes>"
      ]
     },
     "metadata": {
      "image/png": {
       "height": 337,
       "width": 501
      },
      "needs_background": "light"
     },
     "output_type": "display_data"
    }
   ],
   "source": [
    "plt.plot(fpr, tpr, color='r', label=model.classes_[1])\n",
    "plt.plot([0, 1], [0, 1], color='k', linestyle='--')\n",
    "plt.xlabel('False Positive Rate')\n",
    "plt.ylabel('True Positive Rate')\n",
    "plt.title('ROC Curve')\n",
    "plt.legend();"
   ]
  },
  {
   "cell_type": "code",
   "execution_count": 25,
   "metadata": {
    "slideshow": {
     "slide_type": "fragment"
    }
   },
   "outputs": [
    {
     "data": {
      "text/plain": [
       "0.941303624875291"
      ]
     },
     "execution_count": 25,
     "metadata": {},
     "output_type": "execute_result"
    }
   ],
   "source": [
    "lr_genotype_auc = auc(fpr, tpr)\n",
    "lr_genotype_auc"
   ]
  },
  {
   "cell_type": "code",
   "execution_count": 26,
   "metadata": {
    "slideshow": {
     "slide_type": "fragment"
    }
   },
   "outputs": [],
   "source": [
    "# store for later comparison\n",
    "lr_genotype_fpr = fpr\n",
    "lr_genotype_tpr = tpr"
   ]
  },
  {
   "cell_type": "markdown",
   "metadata": {
    "slideshow": {
     "slide_type": "slide"
    }
   },
   "source": [
    "![](images/roc.png)\n",
    "\n",
    "Image from Wikipedia"
   ]
  },
  {
   "cell_type": "markdown",
   "metadata": {
    "slideshow": {
     "slide_type": "slide"
    }
   },
   "source": [
    "# <font color=darkred>Exercise</font>\n",
    "\n",
    "Use logistic regression to predict behavior (C/S vs. S/C) based on protein expression.\n",
    "\n",
    "    C/S: stimulated to learn\n",
    "    S/C: not stimulated to learn\n",
    "\n",
    "Generate a confusion matrix and ROC curve to visualize the performance of your classifier.\n",
    "\n",
    "If you complete the above, see how well you can also predict wether a mouse was injected with saline or memantine bases solely on protein expression."
   ]
  },
  {
   "cell_type": "code",
   "execution_count": null,
   "metadata": {},
   "outputs": [],
   "source": [
    "X = mice.loc[:,'DYRK1A_N':'CaNA_N']  # just protein expression levels\n",
    "y = mice['Behavior'] # C/S or S/C\n",
    "\n",
    "X.shape, y.shape"
   ]
  },
  {
   "cell_type": "markdown",
   "metadata": {
    "slideshow": {
     "slide_type": "slide"
    }
   },
   "source": [
    "# Multinomial logistic regression\n",
    "\n",
    "## Can we predict which class a mouse belongs to based on protein expression?"
   ]
  },
  {
   "cell_type": "code",
   "execution_count": 27,
   "metadata": {},
   "outputs": [
    {
     "data": {
      "text/plain": [
       "array(['c-CS-m', 'c-SC-m', 'c-CS-s', 'c-SC-s', 't-CS-m', 't-SC-m',\n",
       "       't-CS-s', 't-SC-s'], dtype=object)"
      ]
     },
     "execution_count": 27,
     "metadata": {},
     "output_type": "execute_result"
    }
   ],
   "source": [
    "X = mice.loc[:,'DYRK1A_N':'CaNA_N']  # just protein expression levels\n",
    "y = mice['class']\n",
    "y.unique()"
   ]
  },
  {
   "cell_type": "code",
   "execution_count": 28,
   "metadata": {
    "slideshow": {
     "slide_type": "fragment"
    }
   },
   "outputs": [],
   "source": [
    "X_train, X_test, y_train, y_test = train_test_split(X, y, test_size=0.4, random_state=1)"
   ]
  },
  {
   "cell_type": "code",
   "execution_count": 29,
   "metadata": {
    "slideshow": {
     "slide_type": "slide"
    }
   },
   "outputs": [
    {
     "name": "stderr",
     "output_type": "stream",
     "text": [
      "/Users/marcel/opt/anaconda3/lib/python3.8/site-packages/sklearn/linear_model/_logistic.py:763: ConvergenceWarning: lbfgs failed to converge (status=1):\n",
      "STOP: TOTAL NO. of ITERATIONS REACHED LIMIT.\n",
      "\n",
      "Increase the number of iterations (max_iter) or scale the data as shown in:\n",
      "    https://scikit-learn.org/stable/modules/preprocessing.html\n",
      "Please also refer to the documentation for alternative solver options:\n",
      "    https://scikit-learn.org/stable/modules/linear_model.html#logistic-regression\n",
      "  n_iter_i = _check_optimize_result(\n"
     ]
    },
    {
     "data": {
      "text/plain": [
       "LogisticRegression()"
      ]
     },
     "execution_count": 29,
     "metadata": {},
     "output_type": "execute_result"
    }
   ],
   "source": [
    "model = LogisticRegression()\n",
    "model.fit(X_train, y_train)"
   ]
  },
  {
   "cell_type": "code",
   "execution_count": 30,
   "metadata": {},
   "outputs": [
    {
     "data": {
      "text/plain": [
       "((331, 77), (8, 77))"
      ]
     },
     "execution_count": 30,
     "metadata": {},
     "output_type": "execute_result"
    }
   ],
   "source": [
    "X_train.shape, model.coef_.shape"
   ]
  },
  {
   "cell_type": "code",
   "execution_count": 31,
   "metadata": {
    "slideshow": {
     "slide_type": "slide"
    }
   },
   "outputs": [
    {
     "data": {
      "text/plain": [
       "0.8823529411764706"
      ]
     },
     "execution_count": 31,
     "metadata": {},
     "output_type": "execute_result"
    }
   ],
   "source": [
    "lr_class_accuracy = model.score(X_test, y_test)\n",
    "lr_class_accuracy"
   ]
  },
  {
   "cell_type": "code",
   "execution_count": 32,
   "metadata": {
    "slideshow": {
     "slide_type": "fragment"
    }
   },
   "outputs": [
    {
     "data": {
      "text/plain": [
       "(221,)"
      ]
     },
     "execution_count": 32,
     "metadata": {},
     "output_type": "execute_result"
    }
   ],
   "source": [
    "# predicted class for each mouse\n",
    "y_test_pred = model.predict(X_test)\n",
    "y_test_pred.shape"
   ]
  },
  {
   "cell_type": "code",
   "execution_count": 33,
   "metadata": {
    "slideshow": {
     "slide_type": "fragment"
    }
   },
   "outputs": [
    {
     "data": {
      "text/plain": [
       "(221, 8)"
      ]
     },
     "execution_count": 33,
     "metadata": {},
     "output_type": "execute_result"
    }
   ],
   "source": [
    "# predicted probabilities of all classes for each mouse\n",
    "y_test_proba = model.predict_proba(X_test)\n",
    "y_test_proba.shape"
   ]
  },
  {
   "cell_type": "markdown",
   "metadata": {
    "slideshow": {
     "slide_type": "slide"
    }
   },
   "source": [
    "## Prediction probabilities"
   ]
  },
  {
   "cell_type": "code",
   "execution_count": 34,
   "metadata": {
    "slideshow": {
     "slide_type": "-"
    }
   },
   "outputs": [
    {
     "data": {
      "text/html": [
       "<div>\n",
       "<style scoped>\n",
       "    .dataframe tbody tr th:only-of-type {\n",
       "        vertical-align: middle;\n",
       "    }\n",
       "\n",
       "    .dataframe tbody tr th {\n",
       "        vertical-align: top;\n",
       "    }\n",
       "\n",
       "    .dataframe thead th {\n",
       "        text-align: right;\n",
       "    }\n",
       "</style>\n",
       "<table border=\"1\" class=\"dataframe\">\n",
       "  <thead>\n",
       "    <tr style=\"text-align: right;\">\n",
       "      <th></th>\n",
       "      <th>c-CS-m</th>\n",
       "      <th>c-CS-s</th>\n",
       "      <th>c-SC-m</th>\n",
       "      <th>c-SC-s</th>\n",
       "      <th>t-CS-m</th>\n",
       "      <th>t-CS-s</th>\n",
       "      <th>t-SC-m</th>\n",
       "      <th>t-SC-s</th>\n",
       "      <th>Prediction</th>\n",
       "    </tr>\n",
       "  </thead>\n",
       "  <tbody>\n",
       "    <tr>\n",
       "      <th>0</th>\n",
       "      <td>0.010404</td>\n",
       "      <td>0.002506</td>\n",
       "      <td>0.030842</td>\n",
       "      <td>0.132770</td>\n",
       "      <td>0.002631</td>\n",
       "      <td>0.000685</td>\n",
       "      <td>0.745239</td>\n",
       "      <td>0.074922</td>\n",
       "      <td>t-SC-m</td>\n",
       "    </tr>\n",
       "    <tr>\n",
       "      <th>1</th>\n",
       "      <td>0.016786</td>\n",
       "      <td>0.056518</td>\n",
       "      <td>0.009132</td>\n",
       "      <td>0.831731</td>\n",
       "      <td>0.017852</td>\n",
       "      <td>0.002841</td>\n",
       "      <td>0.055364</td>\n",
       "      <td>0.009776</td>\n",
       "      <td>c-SC-s</td>\n",
       "    </tr>\n",
       "    <tr>\n",
       "      <th>2</th>\n",
       "      <td>0.002892</td>\n",
       "      <td>0.000353</td>\n",
       "      <td>0.790505</td>\n",
       "      <td>0.018222</td>\n",
       "      <td>0.000351</td>\n",
       "      <td>0.000052</td>\n",
       "      <td>0.162390</td>\n",
       "      <td>0.025235</td>\n",
       "      <td>c-SC-m</td>\n",
       "    </tr>\n",
       "    <tr>\n",
       "      <th>3</th>\n",
       "      <td>0.004349</td>\n",
       "      <td>0.018467</td>\n",
       "      <td>0.002256</td>\n",
       "      <td>0.934558</td>\n",
       "      <td>0.013976</td>\n",
       "      <td>0.005844</td>\n",
       "      <td>0.016376</td>\n",
       "      <td>0.004175</td>\n",
       "      <td>c-SC-s</td>\n",
       "    </tr>\n",
       "    <tr>\n",
       "      <th>4</th>\n",
       "      <td>0.114970</td>\n",
       "      <td>0.000713</td>\n",
       "      <td>0.041781</td>\n",
       "      <td>0.002569</td>\n",
       "      <td>0.018962</td>\n",
       "      <td>0.001715</td>\n",
       "      <td>0.058718</td>\n",
       "      <td>0.760572</td>\n",
       "      <td>t-SC-s</td>\n",
       "    </tr>\n",
       "    <tr>\n",
       "      <th>...</th>\n",
       "      <td>...</td>\n",
       "      <td>...</td>\n",
       "      <td>...</td>\n",
       "      <td>...</td>\n",
       "      <td>...</td>\n",
       "      <td>...</td>\n",
       "      <td>...</td>\n",
       "      <td>...</td>\n",
       "      <td>...</td>\n",
       "    </tr>\n",
       "    <tr>\n",
       "      <th>216</th>\n",
       "      <td>0.124079</td>\n",
       "      <td>0.000133</td>\n",
       "      <td>0.004421</td>\n",
       "      <td>0.000024</td>\n",
       "      <td>0.818108</td>\n",
       "      <td>0.009927</td>\n",
       "      <td>0.002717</td>\n",
       "      <td>0.040590</td>\n",
       "      <td>t-CS-m</td>\n",
       "    </tr>\n",
       "    <tr>\n",
       "      <th>217</th>\n",
       "      <td>0.155560</td>\n",
       "      <td>0.000107</td>\n",
       "      <td>0.105400</td>\n",
       "      <td>0.000279</td>\n",
       "      <td>0.546348</td>\n",
       "      <td>0.000834</td>\n",
       "      <td>0.125288</td>\n",
       "      <td>0.066185</td>\n",
       "      <td>t-CS-m</td>\n",
       "    </tr>\n",
       "    <tr>\n",
       "      <th>218</th>\n",
       "      <td>0.158150</td>\n",
       "      <td>0.000126</td>\n",
       "      <td>0.059079</td>\n",
       "      <td>0.000384</td>\n",
       "      <td>0.647839</td>\n",
       "      <td>0.001171</td>\n",
       "      <td>0.075019</td>\n",
       "      <td>0.058232</td>\n",
       "      <td>t-CS-m</td>\n",
       "    </tr>\n",
       "    <tr>\n",
       "      <th>219</th>\n",
       "      <td>0.135037</td>\n",
       "      <td>0.724360</td>\n",
       "      <td>0.000875</td>\n",
       "      <td>0.012176</td>\n",
       "      <td>0.082531</td>\n",
       "      <td>0.030553</td>\n",
       "      <td>0.002859</td>\n",
       "      <td>0.011609</td>\n",
       "      <td>c-CS-s</td>\n",
       "    </tr>\n",
       "    <tr>\n",
       "      <th>220</th>\n",
       "      <td>0.008623</td>\n",
       "      <td>0.000075</td>\n",
       "      <td>0.688790</td>\n",
       "      <td>0.009175</td>\n",
       "      <td>0.001863</td>\n",
       "      <td>0.000126</td>\n",
       "      <td>0.235945</td>\n",
       "      <td>0.055403</td>\n",
       "      <td>c-SC-m</td>\n",
       "    </tr>\n",
       "  </tbody>\n",
       "</table>\n",
       "<p>221 rows × 9 columns</p>\n",
       "</div>"
      ],
      "text/plain": [
       "       c-CS-m    c-CS-s    c-SC-m    c-SC-s    t-CS-m    t-CS-s    t-SC-m  \\\n",
       "0    0.010404  0.002506  0.030842  0.132770  0.002631  0.000685  0.745239   \n",
       "1    0.016786  0.056518  0.009132  0.831731  0.017852  0.002841  0.055364   \n",
       "2    0.002892  0.000353  0.790505  0.018222  0.000351  0.000052  0.162390   \n",
       "3    0.004349  0.018467  0.002256  0.934558  0.013976  0.005844  0.016376   \n",
       "4    0.114970  0.000713  0.041781  0.002569  0.018962  0.001715  0.058718   \n",
       "..        ...       ...       ...       ...       ...       ...       ...   \n",
       "216  0.124079  0.000133  0.004421  0.000024  0.818108  0.009927  0.002717   \n",
       "217  0.155560  0.000107  0.105400  0.000279  0.546348  0.000834  0.125288   \n",
       "218  0.158150  0.000126  0.059079  0.000384  0.647839  0.001171  0.075019   \n",
       "219  0.135037  0.724360  0.000875  0.012176  0.082531  0.030553  0.002859   \n",
       "220  0.008623  0.000075  0.688790  0.009175  0.001863  0.000126  0.235945   \n",
       "\n",
       "       t-SC-s Prediction  \n",
       "0    0.074922     t-SC-m  \n",
       "1    0.009776     c-SC-s  \n",
       "2    0.025235     c-SC-m  \n",
       "3    0.004175     c-SC-s  \n",
       "4    0.760572     t-SC-s  \n",
       "..        ...        ...  \n",
       "216  0.040590     t-CS-m  \n",
       "217  0.066185     t-CS-m  \n",
       "218  0.058232     t-CS-m  \n",
       "219  0.011609     c-CS-s  \n",
       "220  0.055403     c-SC-m  \n",
       "\n",
       "[221 rows x 9 columns]"
      ]
     },
     "execution_count": 34,
     "metadata": {},
     "output_type": "execute_result"
    }
   ],
   "source": [
    "df = pd.DataFrame(y_test_proba, columns=model.classes_)\n",
    "df['Prediction'] = y_test_pred\n",
    "df"
   ]
  },
  {
   "cell_type": "markdown",
   "metadata": {
    "slideshow": {
     "slide_type": "slide"
    }
   },
   "source": [
    "## Confusion matrix"
   ]
  },
  {
   "cell_type": "code",
   "execution_count": 35,
   "metadata": {
    "slideshow": {
     "slide_type": "-"
    }
   },
   "outputs": [
    {
     "data": {
      "image/png": "[encoded data removed]",
      "text/plain": [
       "<Figure size 576x360 with 2 Axes>"
      ]
     },
     "metadata": {
      "image/png": {
       "height": 347,
       "width": 402
      },
      "needs_background": "light"
     },
     "output_type": "display_data"
    }
   ],
   "source": [
    "cm = confusion_matrix(y_test, y_test_pred)\n",
    "lr_class_cmd = ConfusionMatrixDisplay(confusion_matrix=cm, display_labels=model.classes_)\n",
    "lr_class_cmd.plot(xticks_rotation='vertical');"
   ]
  },
  {
   "cell_type": "markdown",
   "metadata": {
    "slideshow": {
     "slide_type": "slide"
    }
   },
   "source": [
    "## Precision, Recall and F1-score"
   ]
  },
  {
   "cell_type": "code",
   "execution_count": 36,
   "metadata": {
    "slideshow": {
     "slide_type": "-"
    }
   },
   "outputs": [
    {
     "name": "stdout",
     "output_type": "stream",
     "text": [
      "              precision    recall  f1-score   support\n",
      "\n",
      "      c-CS-m       1.00      0.60      0.75        20\n",
      "      c-CS-s       0.84      0.93      0.88        28\n",
      "      c-SC-m       0.79      0.92      0.85        24\n",
      "      c-SC-s       1.00      1.00      1.00        25\n",
      "      t-CS-m       0.74      0.97      0.84        33\n",
      "      t-CS-s       0.93      0.79      0.86        34\n",
      "      t-SC-m       0.91      0.77      0.83        26\n",
      "      t-SC-s       1.00      1.00      1.00        31\n",
      "\n",
      "    accuracy                           0.88       221\n",
      "   macro avg       0.90      0.87      0.88       221\n",
      "weighted avg       0.90      0.88      0.88       221\n",
      "\n"
     ]
    }
   ],
   "source": [
    "print(classification_report(y_test, y_test_pred))"
   ]
  },
  {
   "cell_type": "markdown",
   "metadata": {
    "slideshow": {
     "slide_type": "slide"
    }
   },
   "source": [
    "## ROC curves\n",
    "\n",
    "An ROC curve is for a binary decision.\n",
    "\n",
    "To show ROC curves for multiple classes, we consider for each class the binary classification of that class vs. all other classes."
   ]
  },
  {
   "cell_type": "code",
   "execution_count": 37,
   "metadata": {
    "slideshow": {
     "slide_type": "-"
    }
   },
   "outputs": [
    {
     "data": {
      "text/plain": [
       "(552, 8)"
      ]
     },
     "execution_count": 37,
     "metadata": {},
     "output_type": "execute_result"
    }
   ],
   "source": [
    "from sklearn.preprocessing import label_binarize\n",
    "\n",
    "classes = y.unique()\n",
    "yb = label_binarize(y, classes=classes)\n",
    "\n",
    "yb.shape"
   ]
  },
  {
   "cell_type": "code",
   "execution_count": 38,
   "metadata": {
    "slideshow": {
     "slide_type": "slide"
    }
   },
   "outputs": [
    {
     "data": {
      "text/html": [
       "<div>\n",
       "<style scoped>\n",
       "    .dataframe tbody tr th:only-of-type {\n",
       "        vertical-align: middle;\n",
       "    }\n",
       "\n",
       "    .dataframe tbody tr th {\n",
       "        vertical-align: top;\n",
       "    }\n",
       "\n",
       "    .dataframe thead th {\n",
       "        text-align: right;\n",
       "    }\n",
       "</style>\n",
       "<table border=\"1\" class=\"dataframe\">\n",
       "  <thead>\n",
       "    <tr style=\"text-align: right;\">\n",
       "      <th></th>\n",
       "      <th>c-CS-m</th>\n",
       "      <th>c-SC-m</th>\n",
       "      <th>c-CS-s</th>\n",
       "      <th>c-SC-s</th>\n",
       "      <th>t-CS-m</th>\n",
       "      <th>t-SC-m</th>\n",
       "      <th>t-CS-s</th>\n",
       "      <th>t-SC-s</th>\n",
       "    </tr>\n",
       "  </thead>\n",
       "  <tbody>\n",
       "    <tr>\n",
       "      <th>0</th>\n",
       "      <td>1</td>\n",
       "      <td>0</td>\n",
       "      <td>0</td>\n",
       "      <td>0</td>\n",
       "      <td>0</td>\n",
       "      <td>0</td>\n",
       "      <td>0</td>\n",
       "      <td>0</td>\n",
       "    </tr>\n",
       "    <tr>\n",
       "      <th>1</th>\n",
       "      <td>1</td>\n",
       "      <td>0</td>\n",
       "      <td>0</td>\n",
       "      <td>0</td>\n",
       "      <td>0</td>\n",
       "      <td>0</td>\n",
       "      <td>0</td>\n",
       "      <td>0</td>\n",
       "    </tr>\n",
       "    <tr>\n",
       "      <th>2</th>\n",
       "      <td>1</td>\n",
       "      <td>0</td>\n",
       "      <td>0</td>\n",
       "      <td>0</td>\n",
       "      <td>0</td>\n",
       "      <td>0</td>\n",
       "      <td>0</td>\n",
       "      <td>0</td>\n",
       "    </tr>\n",
       "    <tr>\n",
       "      <th>3</th>\n",
       "      <td>1</td>\n",
       "      <td>0</td>\n",
       "      <td>0</td>\n",
       "      <td>0</td>\n",
       "      <td>0</td>\n",
       "      <td>0</td>\n",
       "      <td>0</td>\n",
       "      <td>0</td>\n",
       "    </tr>\n",
       "    <tr>\n",
       "      <th>4</th>\n",
       "      <td>1</td>\n",
       "      <td>0</td>\n",
       "      <td>0</td>\n",
       "      <td>0</td>\n",
       "      <td>0</td>\n",
       "      <td>0</td>\n",
       "      <td>0</td>\n",
       "      <td>0</td>\n",
       "    </tr>\n",
       "    <tr>\n",
       "      <th>...</th>\n",
       "      <td>...</td>\n",
       "      <td>...</td>\n",
       "      <td>...</td>\n",
       "      <td>...</td>\n",
       "      <td>...</td>\n",
       "      <td>...</td>\n",
       "      <td>...</td>\n",
       "      <td>...</td>\n",
       "    </tr>\n",
       "    <tr>\n",
       "      <th>547</th>\n",
       "      <td>0</td>\n",
       "      <td>0</td>\n",
       "      <td>0</td>\n",
       "      <td>0</td>\n",
       "      <td>0</td>\n",
       "      <td>0</td>\n",
       "      <td>0</td>\n",
       "      <td>1</td>\n",
       "    </tr>\n",
       "    <tr>\n",
       "      <th>548</th>\n",
       "      <td>0</td>\n",
       "      <td>0</td>\n",
       "      <td>0</td>\n",
       "      <td>0</td>\n",
       "      <td>0</td>\n",
       "      <td>0</td>\n",
       "      <td>0</td>\n",
       "      <td>1</td>\n",
       "    </tr>\n",
       "    <tr>\n",
       "      <th>549</th>\n",
       "      <td>0</td>\n",
       "      <td>0</td>\n",
       "      <td>0</td>\n",
       "      <td>0</td>\n",
       "      <td>0</td>\n",
       "      <td>0</td>\n",
       "      <td>0</td>\n",
       "      <td>1</td>\n",
       "    </tr>\n",
       "    <tr>\n",
       "      <th>550</th>\n",
       "      <td>0</td>\n",
       "      <td>0</td>\n",
       "      <td>0</td>\n",
       "      <td>0</td>\n",
       "      <td>0</td>\n",
       "      <td>0</td>\n",
       "      <td>0</td>\n",
       "      <td>1</td>\n",
       "    </tr>\n",
       "    <tr>\n",
       "      <th>551</th>\n",
       "      <td>0</td>\n",
       "      <td>0</td>\n",
       "      <td>0</td>\n",
       "      <td>0</td>\n",
       "      <td>0</td>\n",
       "      <td>0</td>\n",
       "      <td>0</td>\n",
       "      <td>1</td>\n",
       "    </tr>\n",
       "  </tbody>\n",
       "</table>\n",
       "<p>552 rows × 8 columns</p>\n",
       "</div>"
      ],
      "text/plain": [
       "     c-CS-m  c-SC-m  c-CS-s  c-SC-s  t-CS-m  t-SC-m  t-CS-s  t-SC-s\n",
       "0         1       0       0       0       0       0       0       0\n",
       "1         1       0       0       0       0       0       0       0\n",
       "2         1       0       0       0       0       0       0       0\n",
       "3         1       0       0       0       0       0       0       0\n",
       "4         1       0       0       0       0       0       0       0\n",
       "..      ...     ...     ...     ...     ...     ...     ...     ...\n",
       "547       0       0       0       0       0       0       0       1\n",
       "548       0       0       0       0       0       0       0       1\n",
       "549       0       0       0       0       0       0       0       1\n",
       "550       0       0       0       0       0       0       0       1\n",
       "551       0       0       0       0       0       0       0       1\n",
       "\n",
       "[552 rows x 8 columns]"
      ]
     },
     "execution_count": 38,
     "metadata": {},
     "output_type": "execute_result"
    }
   ],
   "source": [
    "pd.DataFrame(yb, columns=classes)"
   ]
  },
  {
   "cell_type": "code",
   "execution_count": 40,
   "metadata": {
    "slideshow": {
     "slide_type": "slide"
    }
   },
   "outputs": [
    {
     "name": "stderr",
     "output_type": "stream",
     "text": [
      "/Users/marcel/opt/anaconda3/lib/python3.8/site-packages/sklearn/linear_model/_logistic.py:763: ConvergenceWarning: lbfgs failed to converge (status=1):\n",
      "STOP: TOTAL NO. of ITERATIONS REACHED LIMIT.\n",
      "\n",
      "Increase the number of iterations (max_iter) or scale the data as shown in:\n",
      "    https://scikit-learn.org/stable/modules/preprocessing.html\n",
      "Please also refer to the documentation for alternative solver options:\n",
      "    https://scikit-learn.org/stable/modules/linear_model.html#logistic-regression\n",
      "  n_iter_i = _check_optimize_result(\n"
     ]
    },
    {
     "data": {
      "text/plain": [
       "(221, 8)"
      ]
     },
     "execution_count": 40,
     "metadata": {},
     "output_type": "execute_result"
    }
   ],
   "source": [
    "from sklearn.multiclass import OneVsRestClassifier\n",
    "\n",
    "X_train, X_test, yb_train, yb_test = train_test_split(X, yb, test_size=0.4, random_state=1)\n",
    "\n",
    "classifier = OneVsRestClassifier(LogisticRegression())\n",
    "\n",
    "classifier.fit(X_train, yb_train)\n",
    "\n",
    "yb_test_proba = classifier.predict_proba(X_test)\n",
    "\n",
    "yb_test_proba.shape"
   ]
  },
  {
   "cell_type": "code",
   "execution_count": 41,
   "metadata": {
    "slideshow": {
     "slide_type": "slide"
    }
   },
   "outputs": [
    {
     "data": {
      "image/png": "[encoded data removed]",
      "text/plain": [
       "<Figure size 576x360 with 1 Axes>"
      ]
     },
     "metadata": {
      "image/png": {
       "height": 337,
       "width": 501
      },
      "needs_background": "light"
     },
     "output_type": "display_data"
    }
   ],
   "source": [
    "for i, label in enumerate(classes):\n",
    "    fpr, tpr, _ = roc_curve(yb_test[:,i], yb_test_proba[:,i])\n",
    "    plt.plot(fpr, tpr, label=label)\n",
    "plt.xlabel('False Positive Rate')\n",
    "plt.ylabel('True Positive Rate')\n",
    "plt.title('ROC')\n",
    "plt.legend();"
   ]
  },
  {
   "cell_type": "markdown",
   "metadata": {
    "slideshow": {
     "slide_type": "slide"
    }
   },
   "source": [
    "# Decision trees\n",
    "\n",
    "![](images/decision-tree.png)"
   ]
  },
  {
   "cell_type": "markdown",
   "metadata": {
    "slideshow": {
     "slide_type": "slide"
    }
   },
   "source": [
    "# Random Forest\n",
    "\n",
    "Create a forest of many decision trees, where for each tree we...\n",
    "\n",
    "    1. Select a random subset of features from the whole set of features\n",
    "    2. Select a random subset of data points (rows) from the whole dataset (e.g. a bootstrapped dataset)\n",
    "    3. Train the tree on the selected features and data points\n",
    "\n",
    "We then take the mode of the predictions across all trees as the model prediction."
   ]
  },
  {
   "cell_type": "markdown",
   "metadata": {
    "slideshow": {
     "slide_type": "slide"
    }
   },
   "source": [
    "## Can we predict Genotype based on protein expression using a Random Forest classifier?"
   ]
  },
  {
   "cell_type": "code",
   "execution_count": 42,
   "metadata": {},
   "outputs": [],
   "source": [
    "X = mice.loc[:,'DYRK1A_N':'CaNA_N']  # just protein expression levels\n",
    "y = mice['Genotype']"
   ]
  },
  {
   "cell_type": "code",
   "execution_count": 43,
   "metadata": {
    "slideshow": {
     "slide_type": "fragment"
    }
   },
   "outputs": [],
   "source": [
    "X_train, X_test, y_train, y_test = train_test_split(X, y, test_size=0.4, random_state=1)"
   ]
  },
  {
   "cell_type": "code",
   "execution_count": 44,
   "metadata": {
    "slideshow": {
     "slide_type": "slide"
    }
   },
   "outputs": [],
   "source": [
    "from sklearn.ensemble import RandomForestClassifier"
   ]
  },
  {
   "cell_type": "code",
   "execution_count": 45,
   "metadata": {
    "slideshow": {
     "slide_type": "fragment"
    }
   },
   "outputs": [
    {
     "data": {
      "text/plain": [
       "RandomForestClassifier(random_state=1)"
      ]
     },
     "execution_count": 45,
     "metadata": {},
     "output_type": "execute_result"
    }
   ],
   "source": [
    "model = RandomForestClassifier(n_estimators=100, random_state=1)\n",
    "model.fit(X_train, y_train)"
   ]
  },
  {
   "cell_type": "code",
   "execution_count": 46,
   "metadata": {
    "slideshow": {
     "slide_type": "fragment"
    }
   },
   "outputs": [],
   "source": [
    "y_test_pred = model.predict(X_test)"
   ]
  },
  {
   "cell_type": "code",
   "execution_count": 47,
   "metadata": {
    "slideshow": {
     "slide_type": "slide"
    }
   },
   "outputs": [
    {
     "data": {
      "text/html": [
       "<div>\n",
       "<style scoped>\n",
       "    .dataframe tbody tr th:only-of-type {\n",
       "        vertical-align: middle;\n",
       "    }\n",
       "\n",
       "    .dataframe tbody tr th {\n",
       "        vertical-align: top;\n",
       "    }\n",
       "\n",
       "    .dataframe thead th {\n",
       "        text-align: right;\n",
       "    }\n",
       "</style>\n",
       "<table border=\"1\" class=\"dataframe\">\n",
       "  <thead>\n",
       "    <tr style=\"text-align: right;\">\n",
       "      <th></th>\n",
       "      <th>Genotype</th>\n",
       "      <th>LR Predicted Genotype</th>\n",
       "      <th>LR P(Control)</th>\n",
       "      <th>LR P(Ts65Dn)</th>\n",
       "      <th>RF Predicted Genotype</th>\n",
       "    </tr>\n",
       "  </thead>\n",
       "  <tbody>\n",
       "    <tr>\n",
       "      <th>754</th>\n",
       "      <td>Ts65Dn</td>\n",
       "      <td>Ts65Dn</td>\n",
       "      <td>0.326525</td>\n",
       "      <td>0.673475</td>\n",
       "      <td>Ts65Dn</td>\n",
       "    </tr>\n",
       "    <tr>\n",
       "      <th>532</th>\n",
       "      <td>Control</td>\n",
       "      <td>Control</td>\n",
       "      <td>0.904077</td>\n",
       "      <td>0.095923</td>\n",
       "      <td>Control</td>\n",
       "    </tr>\n",
       "    <tr>\n",
       "      <th>185</th>\n",
       "      <td>Control</td>\n",
       "      <td>Control</td>\n",
       "      <td>0.915923</td>\n",
       "      <td>0.084077</td>\n",
       "      <td>Control</td>\n",
       "    </tr>\n",
       "    <tr>\n",
       "      <th>522</th>\n",
       "      <td>Control</td>\n",
       "      <td>Control</td>\n",
       "      <td>0.809981</td>\n",
       "      <td>0.190019</td>\n",
       "      <td>Control</td>\n",
       "    </tr>\n",
       "    <tr>\n",
       "      <th>1045</th>\n",
       "      <td>Ts65Dn</td>\n",
       "      <td>Ts65Dn</td>\n",
       "      <td>0.192639</td>\n",
       "      <td>0.807361</td>\n",
       "      <td>Ts65Dn</td>\n",
       "    </tr>\n",
       "    <tr>\n",
       "      <th>...</th>\n",
       "      <td>...</td>\n",
       "      <td>...</td>\n",
       "      <td>...</td>\n",
       "      <td>...</td>\n",
       "      <td>...</td>\n",
       "    </tr>\n",
       "    <tr>\n",
       "      <th>694</th>\n",
       "      <td>Ts65Dn</td>\n",
       "      <td>Ts65Dn</td>\n",
       "      <td>0.026192</td>\n",
       "      <td>0.973808</td>\n",
       "      <td>Ts65Dn</td>\n",
       "    </tr>\n",
       "    <tr>\n",
       "      <th>667</th>\n",
       "      <td>Ts65Dn</td>\n",
       "      <td>Ts65Dn</td>\n",
       "      <td>0.102601</td>\n",
       "      <td>0.897399</td>\n",
       "      <td>Ts65Dn</td>\n",
       "    </tr>\n",
       "    <tr>\n",
       "      <th>666</th>\n",
       "      <td>Ts65Dn</td>\n",
       "      <td>Ts65Dn</td>\n",
       "      <td>0.099556</td>\n",
       "      <td>0.900444</td>\n",
       "      <td>Ts65Dn</td>\n",
       "    </tr>\n",
       "    <tr>\n",
       "      <th>352</th>\n",
       "      <td>Control</td>\n",
       "      <td>Control</td>\n",
       "      <td>0.878955</td>\n",
       "      <td>0.121045</td>\n",
       "      <td>Control</td>\n",
       "    </tr>\n",
       "    <tr>\n",
       "      <th>232</th>\n",
       "      <td>Control</td>\n",
       "      <td>Control</td>\n",
       "      <td>0.626852</td>\n",
       "      <td>0.373148</td>\n",
       "      <td>Control</td>\n",
       "    </tr>\n",
       "  </tbody>\n",
       "</table>\n",
       "<p>221 rows × 5 columns</p>\n",
       "</div>"
      ],
      "text/plain": [
       "     Genotype LR Predicted Genotype  LR P(Control)  LR P(Ts65Dn)  \\\n",
       "754    Ts65Dn                Ts65Dn       0.326525      0.673475   \n",
       "532   Control               Control       0.904077      0.095923   \n",
       "185   Control               Control       0.915923      0.084077   \n",
       "522   Control               Control       0.809981      0.190019   \n",
       "1045   Ts65Dn                Ts65Dn       0.192639      0.807361   \n",
       "...       ...                   ...            ...           ...   \n",
       "694    Ts65Dn                Ts65Dn       0.026192      0.973808   \n",
       "667    Ts65Dn                Ts65Dn       0.102601      0.897399   \n",
       "666    Ts65Dn                Ts65Dn       0.099556      0.900444   \n",
       "352   Control               Control       0.878955      0.121045   \n",
       "232   Control               Control       0.626852      0.373148   \n",
       "\n",
       "     RF Predicted Genotype  \n",
       "754                 Ts65Dn  \n",
       "532                Control  \n",
       "185                Control  \n",
       "522                Control  \n",
       "1045                Ts65Dn  \n",
       "...                    ...  \n",
       "694                 Ts65Dn  \n",
       "667                 Ts65Dn  \n",
       "666                 Ts65Dn  \n",
       "352                Control  \n",
       "232                Control  \n",
       "\n",
       "[221 rows x 5 columns]"
      ]
     },
     "execution_count": 47,
     "metadata": {},
     "output_type": "execute_result"
    }
   ],
   "source": [
    "genotype_results['RF Predicted Genotype'] = y_test_pred\n",
    "genotype_results"
   ]
  },
  {
   "cell_type": "code",
   "execution_count": 48,
   "metadata": {
    "slideshow": {
     "slide_type": "fragment"
    }
   },
   "outputs": [
    {
     "data": {
      "text/plain": [
       "(0.9638009049773756, 0.9049773755656109)"
      ]
     },
     "execution_count": 48,
     "metadata": {},
     "output_type": "execute_result"
    }
   ],
   "source": [
    "from sklearn.metrics import accuracy_score\n",
    "\n",
    "rf_genotype_accuracy = accuracy_score(y_test, y_test_pred)\n",
    "\n",
    "rf_genotype_accuracy, lr_genotype_accuracy"
   ]
  },
  {
   "cell_type": "code",
   "execution_count": 49,
   "metadata": {
    "slideshow": {
     "slide_type": "slide"
    }
   },
   "outputs": [
    {
     "data": {
      "image/png": "[encoded data removed]",
      "text/plain": [
       "<Figure size 1080x360 with 4 Axes>"
      ]
     },
     "metadata": {
      "image/png": {
       "height": 337,
       "width": 863
      },
      "needs_background": "light"
     },
     "output_type": "display_data"
    }
   ],
   "source": [
    "cm = confusion_matrix(y_test, y_test_pred)\n",
    "rf_genotype_cmd = ConfusionMatrixDisplay(confusion_matrix=cm, display_labels=model.classes_)\n",
    "\n",
    "plt.figure(figsize=(15,5))\n",
    "ax = plt.subplot(1,2,1)\n",
    "lr_genotype_cmd.plot(ax=ax)\n",
    "plt.title('Logistic Regression')\n",
    "ax = plt.subplot(1,2,2)\n",
    "rf_genotype_cmd.plot(ax=ax)\n",
    "plt.title('Random Forest');"
   ]
  },
  {
   "cell_type": "code",
   "execution_count": 52,
   "metadata": {
    "slideshow": {
     "slide_type": "slide"
    }
   },
   "outputs": [],
   "source": [
    "y_test_proba = model.predict_proba(X_test)\n",
    "fpr, tpr, thresholds = roc_curve(y_test, y_test_proba[:,1], pos_label=model.classes_[1])"
   ]
  },
  {
   "cell_type": "code",
   "execution_count": 53,
   "metadata": {
    "slideshow": {
     "slide_type": "fragment"
    }
   },
   "outputs": [
    {
     "data": {
      "image/png": "[encoded data removed]",
      "text/plain": [
       "<Figure size 576x360 with 1 Axes>"
      ]
     },
     "metadata": {
      "image/png": {
       "height": 337,
       "width": 501
      },
      "needs_background": "light"
     },
     "output_type": "display_data"
    }
   ],
   "source": [
    "plt.plot(lr_genotype_fpr, lr_genotype_tpr, color='b', label='Logistic Regression')\n",
    "plt.plot(fpr, tpr, color='r', label='Random Forest')\n",
    "plt.plot([0, 1], [0, 1], color='k', linestyle='--')\n",
    "plt.xlabel('False Positive Rate')\n",
    "plt.ylabel('True Positive Rate')\n",
    "plt.title('Genotype ROC Curve')\n",
    "plt.legend();"
   ]
  },
  {
   "cell_type": "markdown",
   "metadata": {
    "slideshow": {
     "slide_type": "slide"
    }
   },
   "source": [
    "# <font color=darkred>Exercise</font>\n",
    "\n",
    "Use a random forest classifier to predict a mouse's class based on protein expression.\n",
    "\n",
    "Generate a confusion matrix to visualize the classifier's performance.\n",
    "\n",
    "Which classifier did a better job, logistic regression or random forest?"
   ]
  },
  {
   "cell_type": "code",
   "execution_count": null,
   "metadata": {},
   "outputs": [],
   "source": [
    "X = mice.loc[:,'DYRK1A_N':'CaNA_N']  # just protein expression levels\n",
    "y = mice['class'] # 8 different classes\n",
    "\n",
    "X.shape, y.shape"
   ]
  }
 ],
 "metadata": {
  "celltoolbar": "Slideshow",
  "kernelspec": {
   "display_name": "Python 3",
   "language": "python",
   "name": "python3"
  },
  "language_info": {
   "codemirror_mode": {
    "name": "ipython",
    "version": 3
   },
   "file_extension": ".py",
   "mimetype": "text/x-python",
   "name": "python",
   "nbconvert_exporter": "python",
   "pygments_lexer": "ipython3",
   "version": "3.8.6"
  }
 },
 "nbformat": 4,
 "nbformat_minor": 4
}
