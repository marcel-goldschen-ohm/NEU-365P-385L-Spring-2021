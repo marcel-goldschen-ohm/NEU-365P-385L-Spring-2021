{
 "cells": [
  {
   "cell_type": "markdown",
   "metadata": {},
   "source": [
    "## <font color=red>Exercise</font>"
   ]
  },
  {
   "cell_type": "markdown",
   "metadata": {},
   "source": [
    "1. Write a very brief extremely high level description of how you will implement the bubble sort algorithm. Use natural language (no code)."
   ]
  },
  {
   "cell_type": "raw",
   "metadata": {},
   "source": [
    "Loop through the list and swap each out of order pair of items.\n",
    "Repeat until the list is sorted."
   ]
  },
  {
   "cell_type": "markdown",
   "metadata": {},
   "source": [
    "2. Write pseudocode for the bubble sort algorithm."
   ]
  },
  {
   "cell_type": "raw",
   "metadata": {},
   "source": [
    "WHILE list not sorted:\n",
    "    FOR each pair of items in list:\n",
    "        IF items out of order:\n",
    "            swap the pair of items\n",
    "    IF we didn't swap any items:\n",
    "        list is sorted!!!"
   ]
  },
  {
   "cell_type": "markdown",
   "metadata": {},
   "source": [
    "3. Write a function that implements the bubble sort algorithm on an input array and use it to sort the list of items below."
   ]
  },
  {
   "cell_type": "code",
   "execution_count": 1,
   "metadata": {},
   "outputs": [
    {
     "data": {
      "text/plain": [
       "array([6, 2, 9, 6, 8, 1, 8, 6, 8, 4, 1, 8, 3, 0, 2, 5, 2, 7, 5, 6])"
      ]
     },
     "execution_count": 1,
     "metadata": {},
     "output_type": "execute_result"
    }
   ],
   "source": [
    "import numpy as np\n",
    "items = np.random.randint(0, 10, (20,))\n",
    "items"
   ]
  },
  {
   "cell_type": "code",
   "execution_count": 2,
   "metadata": {},
   "outputs": [],
   "source": [
    "# WHILE list not sorted:\n",
    "#     FOR each pair of items in list:\n",
    "#         IF items out of order:\n",
    "#             swap the pair of items\n",
    "#     IF we didn't swap any items:\n",
    "#         list is sorted!!!\n",
    "\n",
    "def bubbleSort(items):\n",
    "    numItems = len(items)\n",
    "    isSorted = False\n",
    "    while not isSorted:\n",
    "        isSorted = True  # assume sorted unless we have to swap during this loop\n",
    "        for i in range(numItems-1):\n",
    "            if items[i+1] < items[i]:  # items out of order\n",
    "                items[i], items[i+1] = items[i+1], items[i]  # swap items\n",
    "                isSorted = False  # we swapped, so we're not sorted yet"
   ]
  },
  {
   "cell_type": "code",
   "execution_count": 3,
   "metadata": {},
   "outputs": [
    {
     "data": {
      "text/plain": [
       "array([0, 1, 1, 2, 2, 2, 3, 4, 5, 5, 6, 6, 6, 6, 7, 8, 8, 8, 8, 9])"
      ]
     },
     "execution_count": 3,
     "metadata": {},
     "output_type": "execute_result"
    }
   ],
   "source": [
    "bubbleSort(items)  # sort items\n",
    "items"
   ]
  },
  {
   "cell_type": "markdown",
   "metadata": {},
   "source": [
    "## <font color=red>Exercise</font>"
   ]
  },
  {
   "cell_type": "markdown",
   "metadata": {},
   "source": [
    "1. Write a very brief description of how you will implement the insertion sort algorithm."
   ]
  },
  {
   "cell_type": "raw",
   "metadata": {},
   "source": [
    "For every item in list, put item in correct position within all previous items."
   ]
  },
  {
   "cell_type": "markdown",
   "metadata": {},
   "source": [
    "2. Write pseudocode for the insertion sort algorithm."
   ]
  },
  {
   "cell_type": "raw",
   "metadata": {},
   "source": [
    "FOR each item in list:\n",
    "    FOR each preceeding item in reverse order:\n",
    "        IF item and preceeding item are out of order:\n",
    "            swap them\n",
    "        ELSE:\n",
    "            item is in order\n",
    "            break loop and go to next item"
   ]
  },
  {
   "cell_type": "markdown",
   "metadata": {},
   "source": [
    "3. Write a function that implements the insertion sort algorithm on an input array and use it to sort the list of items below."
   ]
  },
  {
   "cell_type": "code",
   "execution_count": 4,
   "metadata": {},
   "outputs": [
    {
     "data": {
      "text/plain": [
       "array([3, 0, 7, 1, 5, 9, 5, 5, 0, 8, 4, 2, 9, 4, 7, 2, 0, 5, 5, 2])"
      ]
     },
     "execution_count": 4,
     "metadata": {},
     "output_type": "execute_result"
    }
   ],
   "source": [
    "import numpy as np\n",
    "items = np.random.randint(0, 10, (20,))\n",
    "items"
   ]
  },
  {
   "cell_type": "code",
   "execution_count": 5,
   "metadata": {},
   "outputs": [],
   "source": [
    "def insertionSort(items):\n",
    "    for i in range(1, len(items)):\n",
    "        for j in range(i, 0, -1):\n",
    "            if items[j-1] > items[j]:\n",
    "                items[j-1], items[j] = items[j], items[j-1]\n",
    "            else:\n",
    "                break"
   ]
  },
  {
   "cell_type": "code",
   "execution_count": 6,
   "metadata": {},
   "outputs": [
    {
     "data": {
      "text/plain": [
       "array([0, 0, 0, 1, 2, 2, 2, 3, 4, 4, 5, 5, 5, 5, 5, 7, 7, 8, 9, 9])"
      ]
     },
     "execution_count": 6,
     "metadata": {},
     "output_type": "execute_result"
    }
   ],
   "source": [
    "insertionSort(items)\n",
    "items"
   ]
  }
 ],
 "metadata": {
  "kernelspec": {
   "display_name": "Python 3",
   "language": "python",
   "name": "python3"
  },
  "language_info": {
   "codemirror_mode": {
    "name": "ipython",
    "version": 3
   },
   "file_extension": ".py",
   "mimetype": "text/x-python",
   "name": "python",
   "nbconvert_exporter": "python",
   "pygments_lexer": "ipython3",
   "version": "3.8.6"
  }
 },
 "nbformat": 4,
 "nbformat_minor": 4
}
