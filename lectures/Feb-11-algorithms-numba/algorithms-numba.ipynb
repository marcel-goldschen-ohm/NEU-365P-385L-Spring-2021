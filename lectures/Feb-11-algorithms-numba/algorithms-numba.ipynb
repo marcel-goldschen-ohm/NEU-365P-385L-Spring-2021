{
 "cells": [
  {
   "cell_type": "markdown",
   "metadata": {},
   "source": [
    "# Learning Goals\n",
    "\n",
    "* You will see an example of translating an algorithm into code.\n",
    "* You will get to practice translating an algorithm into code.\n",
    "* You will be able to use Numba to accelerate Python functions."
   ]
  },
  {
   "cell_type": "markdown",
   "metadata": {
    "slideshow": {
     "slide_type": "slide"
    }
   },
   "source": [
    "# Translating an Idea to Code\n",
    "\n",
    "Writing code without thinking of its architecture is useless in the same way as dreaming about your desires without a plan of achieving them. Before writing the first line of code, you should understand what it will be doing, how it will do it, which modules and services it will use and how they will work together, what structure it will have, how it will be tested and debugged, and how it will be updated. - *paraphrased from quote by Andrey Nikishaev*\n",
    "\n",
    "### Today's roadmap:\n",
    "\n",
    "1. High level natural language description\n",
    "2. Pseudocode\n",
    "3. Code"
   ]
  },
  {
   "cell_type": "markdown",
   "metadata": {
    "slideshow": {
     "slide_type": "slide"
    }
   },
   "source": [
    "# while loop"
   ]
  },
  {
   "cell_type": "code",
   "execution_count": 2,
   "metadata": {},
   "outputs": [
    {
     "name": "stdout",
     "output_type": "stream",
     "text": [
      "0\n",
      "1\n",
      "2\n",
      "3\n",
      "4\n"
     ]
    }
   ],
   "source": [
    "i = 0\n",
    "while i < 5:\n",
    "    print(i)\n",
    "    i += 1"
   ]
  },
  {
   "cell_type": "markdown",
   "metadata": {
    "slideshow": {
     "slide_type": "slide"
    }
   },
   "source": [
    "# Bubble Sort Algorithm\n",
    "\n",
    "Sort a list of items by repeatedly swapping pairs of items that are out of order until the list is sorted.\n",
    "\n",
    "But how will you do it?\n",
    "\n",
    "![Bubble Sort](images/bubblesort.png)"
   ]
  },
  {
   "cell_type": "markdown",
   "metadata": {
    "slideshow": {
     "slide_type": "slide"
    }
   },
   "source": [
    "### <font color=red>Example:</font> Write a very brief extremely high level description of how you will implement the bubble sort algorithm. Use natural language (no code)."
   ]
  },
  {
   "cell_type": "raw",
   "metadata": {},
   "source": [
    "Loop through the list and swap each out-of-order pair of items.\n",
    "Repeat until the list is sorted."
   ]
  },
  {
   "cell_type": "markdown",
   "metadata": {
    "slideshow": {
     "slide_type": "fragment"
    }
   },
   "source": [
    "### <font color=red>Example:</font> Write pseudocode for the bubble sort algorithm."
   ]
  },
  {
   "cell_type": "raw",
   "metadata": {},
   "source": [
    "WHILE list not sorted:\n",
    "    FOR each pair of items in list:\n",
    "        IF items out of order:\n",
    "            swap the pair of items\n",
    "    IF we didn't swap any items:\n",
    "        list is sorted!"
   ]
  },
  {
   "cell_type": "markdown",
   "metadata": {
    "slideshow": {
     "slide_type": "slide"
    }
   },
   "source": [
    "### <font color=red>Example:</font> Write a function that implements the bubble sort algorithm on an input array."
   ]
  },
  {
   "cell_type": "code",
   "execution_count": 24,
   "metadata": {},
   "outputs": [],
   "source": [
    "# WHILE list not sorted:\n",
    "#     FOR each pair of items in list:\n",
    "#         IF items out of order:\n",
    "#             swap the pair of items\n",
    "#     IF we didn't swap any items:\n",
    "#         list is sorted!\n",
    "\n",
    "def bubbleSort(items):\n",
    "    numItems = len(items)\n",
    "    isSorted = False\n",
    "    \n",
    "    while not isSorted:\n",
    "        # assume sorted until we swap something\n",
    "        isSorted = True\n",
    "        \n",
    "        # for each pair of items\n",
    "        for i in range(numItems-1):\n",
    "            if items[i+1] < items[i]:\n",
    "                # swap out-of-order items\n",
    "                items[i], items[i+1] = items[i+1], items[i]\n",
    "                isSorted = False"
   ]
  },
  {
   "cell_type": "markdown",
   "metadata": {
    "slideshow": {
     "slide_type": "slide"
    }
   },
   "source": [
    "### Use your function to sort the list of items below."
   ]
  },
  {
   "cell_type": "code",
   "execution_count": 4,
   "metadata": {},
   "outputs": [
    {
     "data": {
      "text/plain": [
       "array([6, 1, 3, 1, 1, 0, 7, 2, 3, 9, 5, 0, 3, 4, 8, 2, 1, 0, 4, 1])"
      ]
     },
     "execution_count": 4,
     "metadata": {},
     "output_type": "execute_result"
    }
   ],
   "source": [
    "import numpy as np\n",
    "items = np.random.randint(0, 10, (20,))\n",
    "items"
   ]
  },
  {
   "cell_type": "code",
   "execution_count": null,
   "metadata": {
    "slideshow": {
     "slide_type": "fragment"
    }
   },
   "outputs": [],
   "source": [
    "bubbleSort(items)  # sort items\n",
    "items"
   ]
  },
  {
   "cell_type": "markdown",
   "metadata": {
    "slideshow": {
     "slide_type": "slide"
    }
   },
   "source": [
    "# Optimization with Numba\n",
    "\n",
    "Let's accelerate functions with Python loops and NumPy computations!\n",
    "[A quick intro.](https://numba.pydata.org/numba-doc/dev/user/5minguide.html)"
   ]
  },
  {
   "cell_type": "code",
   "execution_count": 19,
   "metadata": {},
   "outputs": [],
   "source": [
    "import numba\n",
    "items = np.random.random(5000)"
   ]
  },
  {
   "cell_type": "code",
   "execution_count": 20,
   "metadata": {},
   "outputs": [
    {
     "name": "stdout",
     "output_type": "stream",
     "text": [
      "1.33 ms ± 58 µs per loop (mean ± std. dev. of 7 runs, 1 loop each)\n"
     ]
    }
   ],
   "source": [
    "%timeit bubbleSort(items)  # no numba"
   ]
  },
  {
   "cell_type": "code",
   "execution_count": 23,
   "metadata": {
    "slideshow": {
     "slide_type": "fragment"
    }
   },
   "outputs": [
    {
     "name": "stdout",
     "output_type": "stream",
     "text": [
      "7.12 µs ± 35.9 ns per loop (mean ± std. dev. of 7 runs, 100000 loops each)\n"
     ]
    }
   ],
   "source": [
    "%timeit bubbleSort(items)  # @numba.jit"
   ]
  },
  {
   "cell_type": "code",
   "execution_count": 26,
   "metadata": {
    "slideshow": {
     "slide_type": "fragment"
    }
   },
   "outputs": [
    {
     "name": "stdout",
     "output_type": "stream",
     "text": [
      "7.17 µs ± 48.9 ns per loop (mean ± std. dev. of 7 runs, 100000 loops each)\n"
     ]
    }
   ],
   "source": [
    "%timeit bubbleSort(items)  # @numba.njit"
   ]
  },
  {
   "cell_type": "markdown",
   "metadata": {
    "slideshow": {
     "slide_type": "fragment"
    }
   },
   "source": [
    "**!!! WARNING !!!** Note that the full speedup from jit is only seen the *2nd time* the function is used! This is because there is overhead to perform the compilation the first time around."
   ]
  },
  {
   "cell_type": "markdown",
   "metadata": {
    "slideshow": {
     "slide_type": "slide"
    }
   },
   "source": [
    "# Insertion Sort Algorithm\n",
    "\n",
    "For each item in an list, insert it into its sorted position within all previous items.\n",
    "\n",
    "![Insertion Sort](images/insertionsort.png)"
   ]
  },
  {
   "cell_type": "markdown",
   "metadata": {
    "slideshow": {
     "slide_type": "slide"
    }
   },
   "source": [
    "### <font color=red>Exercise:</font> Write a very brief extremely high level description of how you will implement the insertion sort algorithm. Use natural language (no code)."
   ]
  },
  {
   "cell_type": "raw",
   "metadata": {},
   "source": []
  },
  {
   "cell_type": "markdown",
   "metadata": {
    "slideshow": {
     "slide_type": "fragment"
    }
   },
   "source": [
    "### <font color=red>Exercise:</font> Write pseudocode for the insertion sort algorithm."
   ]
  },
  {
   "cell_type": "raw",
   "metadata": {},
   "source": []
  },
  {
   "cell_type": "markdown",
   "metadata": {
    "slideshow": {
     "slide_type": "slide"
    }
   },
   "source": [
    "### <font color=red>Exercise:</font> Write a function that implements the insertion sort algorithm on an input array."
   ]
  },
  {
   "cell_type": "code",
   "execution_count": 2,
   "metadata": {},
   "outputs": [],
   "source": [
    "def insertionSort(items):\n",
    "    ..."
   ]
  },
  {
   "cell_type": "markdown",
   "metadata": {
    "slideshow": {
     "slide_type": "slide"
    }
   },
   "source": [
    "### Use your function to sort the list of items below."
   ]
  },
  {
   "cell_type": "code",
   "execution_count": 1,
   "metadata": {
    "slideshow": {
     "slide_type": "-"
    }
   },
   "outputs": [
    {
     "data": {
      "text/plain": [
       "array([2, 2, 4, 6, 5, 3, 2, 7, 8, 6, 9, 5, 4, 1, 2, 3, 8, 1, 1, 2])"
      ]
     },
     "execution_count": 1,
     "metadata": {},
     "output_type": "execute_result"
    }
   ],
   "source": [
    "import numpy as np\n",
    "items = np.random.randint(0, 10, (20,))\n",
    "items"
   ]
  },
  {
   "cell_type": "code",
   "execution_count": null,
   "metadata": {},
   "outputs": [],
   "source": [
    "insertionSort(items)  # sort items\n",
    "items"
   ]
  }
 ],
 "metadata": {
  "celltoolbar": "Slideshow",
  "kernelspec": {
   "display_name": "Python 3",
   "language": "python",
   "name": "python3"
  },
  "language_info": {
   "codemirror_mode": {
    "name": "ipython",
    "version": 3
   },
   "file_extension": ".py",
   "mimetype": "text/x-python",
   "name": "python",
   "nbconvert_exporter": "python",
   "pygments_lexer": "ipython3",
   "version": "3.8.6"
  }
 },
 "nbformat": 4,
 "nbformat_minor": 4
}
