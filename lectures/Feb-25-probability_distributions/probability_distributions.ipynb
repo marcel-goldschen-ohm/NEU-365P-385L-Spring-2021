{
 "cells": [
  {
   "cell_type": "markdown",
   "metadata": {
    "slideshow": {
     "slide_type": "slide"
    }
   },
   "source": [
    "# Probability Distributions"
   ]
  },
  {
   "cell_type": "markdown",
   "metadata": {
    "slideshow": {
     "slide_type": "slide"
    }
   },
   "source": [
    "# Some typical stuff we'll likely use"
   ]
  },
  {
   "cell_type": "code",
   "execution_count": 1,
   "metadata": {},
   "outputs": [],
   "source": [
    "import numpy as np\n",
    "import matplotlib.pyplot as plt\n",
    "import seaborn as sns\n",
    "%config InlineBackend.figure_format = 'retina'"
   ]
  },
  {
   "cell_type": "markdown",
   "metadata": {
    "slideshow": {
     "slide_type": "slide"
    }
   },
   "source": [
    "# [SciPy](https://scipy.org)\n",
    "\n",
    "### [scipy.stats](https://docs.scipy.org/doc/scipy-0.14.0/reference/stats.html)"
   ]
  },
  {
   "cell_type": "code",
   "execution_count": 2,
   "metadata": {},
   "outputs": [],
   "source": [
    "import scipy as sp\n",
    "import scipy.stats as st"
   ]
  },
  {
   "cell_type": "markdown",
   "metadata": {
    "slideshow": {
     "slide_type": "slide"
    }
   },
   "source": [
    "# Binomial Distribution\n",
    "\n",
    "### <font color=darkred> **Example**: A couple, who are both carriers for a recessive disease, wish to have 5 children. They want to know the probability that they will have four healthy kids.</font>\n",
    "\n",
    "In this case the random variable is the number of healthy kids."
   ]
  },
  {
   "cell_type": "code",
   "execution_count": 39,
   "metadata": {},
   "outputs": [
    {
     "data": {
      "text/plain": [
       "0.39550781249999994"
      ]
     },
     "execution_count": 39,
     "metadata": {},
     "output_type": "execute_result"
    }
   ],
   "source": [
    "# number of trials (kids)\n",
    "n = 5\n",
    "\n",
    "# probability of success on each trial\n",
    "# i.e. probability that each child will be healthy = 1 - 0.5 * 0.5 = 0.75\n",
    "p = 0.75\n",
    "\n",
    "# a binomial distribution object\n",
    "dist = st.binom(n, p)\n",
    "\n",
    "# probability of four healthy kids\n",
    "dist.pmf(4)"
   ]
  },
  {
   "cell_type": "code",
   "execution_count": 40,
   "metadata": {
    "slideshow": {
     "slide_type": "fragment"
    }
   },
   "outputs": [
    {
     "name": "stdout",
     "output_type": "stream",
     "text": [
      "The probability of having four healthy kids is 0.396\n"
     ]
    }
   ],
   "source": [
    "print(f\"The probability of having four healthy kids is {dist.pmf(4):.3f}\")"
   ]
  },
  {
   "cell_type": "markdown",
   "metadata": {
    "slideshow": {
     "slide_type": "slide"
    }
   },
   "source": [
    "### <font color=darkred>Probability to have each of 0-5 healthy kids.</font>"
   ]
  },
  {
   "cell_type": "code",
   "execution_count": 41,
   "metadata": {},
   "outputs": [
    {
     "data": {
      "text/plain": [
       "array([0, 1, 2, 3, 4, 5])"
      ]
     },
     "execution_count": 41,
     "metadata": {},
     "output_type": "execute_result"
    }
   ],
   "source": [
    "# all possible # of successes out of n trials\n",
    "# i.e. all possible outcomes of the random variable\n",
    "# i.e. all possible number of healthy kids = 0-5\n",
    "numHealthyKids = np.arange(n+1)\n",
    "\n",
    "numHealthyKids"
   ]
  },
  {
   "cell_type": "code",
   "execution_count": 42,
   "metadata": {},
   "outputs": [
    {
     "data": {
      "text/plain": [
       "array([0.00097656, 0.01464844, 0.08789062, 0.26367187, 0.39550781,\n",
       "       0.23730469])"
      ]
     },
     "execution_count": 42,
     "metadata": {},
     "output_type": "execute_result"
    }
   ],
   "source": [
    "# probability of obtaining each possible number of successes\n",
    "# i.e. probability of having each possible number of healthy children\n",
    "pmf = dist.pmf(numHealthyKids)\n",
    "\n",
    "pmf"
   ]
  },
  {
   "cell_type": "markdown",
   "metadata": {
    "slideshow": {
     "slide_type": "slide"
    }
   },
   "source": [
    "### <font color=darkred>Visualize the probability to have each of 0-5 healthy kids.</font>"
   ]
  },
  {
   "cell_type": "code",
   "execution_count": 43,
   "metadata": {},
   "outputs": [
    {
     "data": {
      "image/png": "[encoded data removed]",
      "text/plain": [
       "<Figure size 432x288 with 1 Axes>"
      ]
     },
     "metadata": {
      "image/png": {
       "height": 269,
       "width": 399
      },
      "needs_background": "light"
     },
     "output_type": "display_data"
    }
   ],
   "source": [
    "plt.bar(numHealthyKids, pmf)\n",
    "plt.xlabel('# healthy children', fontsize=18)\n",
    "plt.ylabel('probability', fontsize=18);"
   ]
  },
  {
   "cell_type": "markdown",
   "metadata": {
    "slideshow": {
     "slide_type": "slide"
    }
   },
   "source": [
    "### <font color=darkred>Probability to have at least 4 healthy kids.</font>"
   ]
  },
  {
   "cell_type": "code",
   "execution_count": 51,
   "metadata": {},
   "outputs": [
    {
     "data": {
      "text/plain": [
       "0.6328125"
      ]
     },
     "execution_count": 51,
     "metadata": {},
     "output_type": "execute_result"
    }
   ],
   "source": [
    "# sum of probabilities of 4 and 5 healthy kids\n",
    "pmf[-2:].sum()"
   ]
  },
  {
   "cell_type": "code",
   "execution_count": 45,
   "metadata": {
    "slideshow": {
     "slide_type": "fragment"
    }
   },
   "outputs": [
    {
     "data": {
      "text/plain": [
       "0.6328125"
      ]
     },
     "execution_count": 45,
     "metadata": {},
     "output_type": "execute_result"
    }
   ],
   "source": [
    "# remaining probability after subtracting CDF for 3 kids\n",
    "1 - dist.cdf(3)"
   ]
  },
  {
   "cell_type": "code",
   "execution_count": 46,
   "metadata": {
    "slideshow": {
     "slide_type": "fragment"
    }
   },
   "outputs": [
    {
     "data": {
      "text/plain": [
       "0.6328125"
      ]
     },
     "execution_count": 46,
     "metadata": {},
     "output_type": "execute_result"
    }
   ],
   "source": [
    "# survival function for 3 kids\n",
    "dist.sf(3)"
   ]
  },
  {
   "cell_type": "markdown",
   "metadata": {
    "slideshow": {
     "slide_type": "slide"
    }
   },
   "source": [
    "### <font color=darkred>What is the expected number of healthy kids?</font>"
   ]
  },
  {
   "cell_type": "code",
   "execution_count": 47,
   "metadata": {},
   "outputs": [
    {
     "name": "stdout",
     "output_type": "stream",
     "text": [
      "The expected number of healthy kids is 3.75\n"
     ]
    }
   ],
   "source": [
    "print(f\"The expected number of healthy kids is {dist.mean()}\")"
   ]
  },
  {
   "cell_type": "markdown",
   "metadata": {
    "slideshow": {
     "slide_type": "fragment"
    }
   },
   "source": [
    "### <font color=darkred>How sure are we about the above estimate?</font>"
   ]
  },
  {
   "cell_type": "code",
   "execution_count": 50,
   "metadata": {},
   "outputs": [
    {
     "name": "stdout",
     "output_type": "stream",
     "text": [
      "The expected number of healthy kids is 3.75 ± 0.97\n"
     ]
    }
   ],
   "source": [
    "print(f\"The expected number of healthy kids is {dist.mean()} ± {dist.std():.2f}\")"
   ]
  },
  {
   "cell_type": "markdown",
   "metadata": {
    "slideshow": {
     "slide_type": "slide"
    }
   },
   "source": [
    "# <font color=red> Exercise</font>\n",
    "\n",
    "Should the couple consider having six children?\n",
    "\n",
    "1. Plot the *pmf* for the probability of each possible number of healthy children.\n",
    "2. What's the probability that they will all be healthy?"
   ]
  },
  {
   "cell_type": "markdown",
   "metadata": {
    "slideshow": {
     "slide_type": "slide"
    }
   },
   "source": [
    "# Poisson Distribution\n",
    "\n",
    "### <font color=darkred> **Example**: Assume that the rate of deleterious mutations is ~1.2 per diploid genome. What is the probability that an individual has 8 or more spontaneous deleterious mutations?</font>\n",
    "\n",
    "In this case the random variable is the number of deleterious mutations within an individuals genome."
   ]
  },
  {
   "cell_type": "code",
   "execution_count": 53,
   "metadata": {},
   "outputs": [],
   "source": [
    "# the rate of deleterious mutations is 1.2 per diploid genome\n",
    "rate = 1.2\n",
    "\n",
    "# poisson distribution describing the predicted number of spontaneous mutations\n",
    "dist = st.poisson(rate)"
   ]
  },
  {
   "cell_type": "code",
   "execution_count": 55,
   "metadata": {
    "slideshow": {
     "slide_type": "slide"
    }
   },
   "outputs": [
    {
     "data": {
      "image/png": "[encoded data removed]",
      "text/plain": [
       "<Figure size 432x288 with 1 Axes>"
      ]
     },
     "metadata": {
      "image/png": {
       "height": 269,
       "width": 399
      },
      "needs_background": "light"
     },
     "output_type": "display_data"
    }
   ],
   "source": [
    "# let's look at the probability for 0-10 mutations\n",
    "numMutations = np.arange(11)\n",
    "\n",
    "plt.bar(numMutations, dist.pmf(numMutations))\n",
    "plt.xlabel('# mutations', fontsize=18)\n",
    "plt.ylabel('probability', fontsize=18);"
   ]
  },
  {
   "cell_type": "code",
   "execution_count": 60,
   "metadata": {
    "slideshow": {
     "slide_type": "fragment"
    }
   },
   "outputs": [
    {
     "name": "stdout",
     "output_type": "stream",
     "text": [
      "Probability of less than 8 mutations = 0.9999630211320938\n",
      "Probability of 8 or more mutations = 3.6978867906171055e-05\n"
     ]
    },
    {
     "data": {
      "text/plain": [
       "1.0"
      ]
     },
     "execution_count": 60,
     "metadata": {},
     "output_type": "execute_result"
    }
   ],
   "source": [
    "print(f\"Probability of less than 8 mutations = {dist.cdf(7)}\")\n",
    "print(f\"Probability of 8 or more mutations = {dist.sf(7)}\")\n",
    "dist.cdf(7) + dist.sf(7)"
   ]
  },
  {
   "cell_type": "markdown",
   "metadata": {
    "slideshow": {
     "slide_type": "slide"
    }
   },
   "source": [
    "# <font color=red> Exercise</font>\n",
    "\n",
    "For the above example, what is the probability that an individual has three or fewer mutations?"
   ]
  },
  {
   "cell_type": "markdown",
   "metadata": {
    "slideshow": {
     "slide_type": "slide"
    }
   },
   "source": [
    "# Exponential Distribution\n",
    "\n",
    "### <font color=darkred> **Example**: Assume that a neuron spikes 1.5 times per second on average. Plot the probability density function of interspike intervals from zero to five seconds with a resolution of 0.01 seconds.</font>\n",
    "\n",
    "In this case the random variable is the interspike interval time."
   ]
  },
  {
   "cell_type": "code",
   "execution_count": 61,
   "metadata": {},
   "outputs": [],
   "source": [
    "# spike rate per second\n",
    "rate = 1.5\n",
    "\n",
    "# exponential distribution describing the neuron's predicted interspike intervals\n",
    "dist = st.expon(loc=0, scale=1/rate)"
   ]
  },
  {
   "cell_type": "code",
   "execution_count": 62,
   "metadata": {
    "slideshow": {
     "slide_type": "slide"
    }
   },
   "outputs": [
    {
     "data": {
      "image/png": "[encoded data removed]",
      "text/plain": [
       "<Figure size 432x288 with 1 Axes>"
      ]
     },
     "metadata": {
      "image/png": {
       "height": 269,
       "width": 393
      },
      "needs_background": "light"
     },
     "output_type": "display_data"
    }
   ],
   "source": [
    "# plot interspike intervals from 0-5 seconds at 0.01 sec resolution\n",
    "intervalsSec = np.linspace(0, 5, 501)\n",
    "\n",
    "# probability density for each interval\n",
    "pdf = dist.pdf(intervalsSec)\n",
    "\n",
    "plt.plot(intervalsSec, pdf)\n",
    "plt.xlabel('interspike interval (sec)', fontsize=18)\n",
    "plt.ylabel('pdf', fontsize=18);"
   ]
  },
  {
   "cell_type": "markdown",
   "metadata": {
    "slideshow": {
     "slide_type": "slide"
    }
   },
   "source": [
    "### <font color=darkred>What is the average interval?</font>"
   ]
  },
  {
   "cell_type": "code",
   "execution_count": 65,
   "metadata": {},
   "outputs": [
    {
     "name": "stdout",
     "output_type": "stream",
     "text": [
      "Average interspike interval = 0.67 seconds.\n"
     ]
    }
   ],
   "source": [
    "print(f\"Average interspike interval = {dist.mean():.2f} seconds.\")"
   ]
  },
  {
   "cell_type": "markdown",
   "metadata": {
    "slideshow": {
     "slide_type": "fragment"
    }
   },
   "source": [
    "### <font color=darkred>time constant = 1 / rate = mean</font>"
   ]
  },
  {
   "cell_type": "code",
   "execution_count": 66,
   "metadata": {},
   "outputs": [
    {
     "data": {
      "text/plain": [
       "0.6666666666666666"
      ]
     },
     "execution_count": 66,
     "metadata": {},
     "output_type": "execute_result"
    }
   ],
   "source": [
    "tau = 1 / rate\n",
    "tau"
   ]
  },
  {
   "cell_type": "markdown",
   "metadata": {
    "slideshow": {
     "slide_type": "slide"
    }
   },
   "source": [
    "### <font color=darkred> What is the probability that an interval will be between 1 and 2 seconds?</font>"
   ]
  },
  {
   "cell_type": "code",
   "execution_count": 67,
   "metadata": {},
   "outputs": [
    {
     "name": "stdout",
     "output_type": "stream",
     "text": [
      "Probability of an interspike interval being between 1 and 2 seconds is 0.17\n"
     ]
    }
   ],
   "source": [
    "prob1to2 = dist.cdf(2) - dist.cdf(1);\n",
    "\n",
    "print(f\"Probability of an interspike interval being between 1 and 2 seconds is {prob1to2:.2f}\")"
   ]
  },
  {
   "cell_type": "markdown",
   "metadata": {
    "slideshow": {
     "slide_type": "slide"
    }
   },
   "source": [
    "### <font color=darkred> For what time *T* is the probability that an interval is shorter than *T* equal to 25%?</font>"
   ]
  },
  {
   "cell_type": "code",
   "execution_count": 71,
   "metadata": {},
   "outputs": [
    {
     "name": "stdout",
     "output_type": "stream",
     "text": [
      "There is a 25% chance that an interval is shorter than 0.19 seconds.\n"
     ]
    }
   ],
   "source": [
    "timeAtFirst25PercentOfDist = dist.ppf(0.25)  # percent point function\n",
    "\n",
    "print(f\"There is a 25% chance that an interval is shorter than {timeAtFirst25PercentOfDist:.2f} seconds.\")"
   ]
  },
  {
   "cell_type": "markdown",
   "metadata": {
    "slideshow": {
     "slide_type": "slide"
    }
   },
   "source": [
    "# <font color=red> Exercise</font>\n",
    "\n",
    "For the above example, what is the probability that 3 seconds will pass without any spikes?"
   ]
  },
  {
   "cell_type": "markdown",
   "metadata": {
    "slideshow": {
     "slide_type": "slide"
    }
   },
   "source": [
    "# Normal Distribution\n",
    "\n",
    "### <font color=darkred> **Example**: Under basal conditions the resting membrane voltage of a neuron fluctuates around -70 mV with a variance of 10 mV.</font>\n",
    "\n",
    "In this case the random variable is the neuron's resting membrane voltage."
   ]
  },
  {
   "cell_type": "code",
   "execution_count": 72,
   "metadata": {},
   "outputs": [],
   "source": [
    "# mean resting membrane voltage (mV)\n",
    "mu = -70\n",
    "\n",
    "# standard deviation about the mean\n",
    "sd = np.sqrt(10)\n",
    "\n",
    "# normal distribution describing the neuron's predicted resting membrane voltage\n",
    "dist = st.norm(mu, sd)"
   ]
  },
  {
   "cell_type": "code",
   "execution_count": 73,
   "metadata": {
    "slideshow": {
     "slide_type": "slide"
    }
   },
   "outputs": [
    {
     "data": {
      "image/png": "[encoded data removed]",
      "text/plain": [
       "<Figure size 432x288 with 1 Axes>"
      ]
     },
     "metadata": {
      "image/png": {
       "height": 269,
       "width": 399
      },
      "needs_background": "light"
     },
     "output_type": "display_data"
    }
   ],
   "source": [
    "# membrane voltages from -85 to -55 mV\n",
    "mV = np.linspace(-85, -55, 301)\n",
    "\n",
    "# probability density for each membrane voltage in mV\n",
    "pdf = dist.pdf(mV)\n",
    "\n",
    "plt.plot(mV, pdf)\n",
    "plt.xlabel('membrane voltage (mV)', fontsize=18)\n",
    "plt.ylabel('pdf', fontsize=18);"
   ]
  },
  {
   "cell_type": "markdown",
   "metadata": {
    "slideshow": {
     "slide_type": "slide"
    }
   },
   "source": [
    "### <font color=darkred> What range of membrane voltages (centered on the mean) account for 95% of the probability.</font>"
   ]
  },
  {
   "cell_type": "code",
   "execution_count": 77,
   "metadata": {},
   "outputs": [
    {
     "name": "stdout",
     "output_type": "stream",
     "text": [
      "95% of membrane voltages are expected to fall within -76.2 and -63.8 mV.\n"
     ]
    }
   ],
   "source": [
    "low = dist.ppf(0.025)  # first 2.5% of distribution\n",
    "high = dist.ppf(0.975) # first 97.5% of distribution\n",
    "\n",
    "print(f\"95% of membrane voltages are expected to fall within {low :.1f} and {high :.1f} mV.\")"
   ]
  },
  {
   "cell_type": "markdown",
   "metadata": {
    "slideshow": {
     "slide_type": "slide"
    }
   },
   "source": [
    "# <font color=red> Exercise</font>\n",
    "\n",
    "In a resting neuron, what's the probability that you would measure a membrane voltage greater than -65 mV?\n",
    "\n",
    "If you meaassure -65 mV, is the neuron at rest?"
   ]
  },
  {
   "cell_type": "markdown",
   "metadata": {
    "slideshow": {
     "slide_type": "slide"
    }
   },
   "source": [
    "# <font color=red> Exercise</font>\n",
    "\n",
    "What probability distribution might best describe the number of synapses per millimeter of dendrite?\n",
    "\n",
    "    A) Binomial\n",
    "    B) Poisson\n",
    "    C) Exponential\n",
    "    D) Normal"
   ]
  },
  {
   "cell_type": "markdown",
   "metadata": {
    "slideshow": {
     "slide_type": "slide"
    }
   },
   "source": [
    "# <font color=red> Exercise</font>\n",
    "\n",
    "What probability distribution might best describe the time a protein spends in its active conformation?\n",
    "\n",
    "    A) Binomial\n",
    "    B) Poisson\n",
    "    C) Exponential\n",
    "    D) Normal"
   ]
  },
  {
   "cell_type": "markdown",
   "metadata": {
    "slideshow": {
     "slide_type": "slide"
    }
   },
   "source": [
    "# <font color=red> Exercise</font>\n",
    "\n",
    "What probability distribution might best describe the weights of adult mice in a colony?\n",
    "\n",
    "    A) Binomial\n",
    "    B) Poisson\n",
    "    C) Exponential\n",
    "    D) Normal"
   ]
  },
  {
   "cell_type": "markdown",
   "metadata": {
    "slideshow": {
     "slide_type": "slide"
    }
   },
   "source": [
    "# <font color=red> Exercise</font>\n",
    "\n",
    "What probability distribution might best describe the number of times a subject is able to identify the correct target in a series of trials?\n",
    "\n",
    "    A) Binomial\n",
    "    B) Poisson\n",
    "    C) Exponential\n",
    "    D) Normal"
   ]
  }
 ],
 "metadata": {
  "celltoolbar": "Slideshow",
  "kernelspec": {
   "display_name": "Python 3",
   "language": "python",
   "name": "python3"
  },
  "language_info": {
   "codemirror_mode": {
    "name": "ipython",
    "version": 3
   },
   "file_extension": ".py",
   "mimetype": "text/x-python",
   "name": "python",
   "nbconvert_exporter": "python",
   "pygments_lexer": "ipython3",
   "version": "3.8.6"
  }
 },
 "nbformat": 4,
 "nbformat_minor": 4
}
